{
 "cells": [
  {
   "cell_type": "code",
   "execution_count": null,
   "metadata": {
    "_cell_guid": "b1076dfc-b9ad-4769-8c92-a6c4dae69d19",
    "_uuid": "8f2839f25d086af736a60e9eeb907d3b93b6e0e5",
    "trusted": true
   },
   "outputs": [],
   "source": [
    "# This Python 3 environment comes with many helpful analytics libraries installed\n",
    "# It is defined by the kaggle/python Docker image: https://github.com/kaggle/docker-python\n",
    "# For example, here's several helpful packages to load\n",
    "\n",
    "import numpy as np # linear algebra\n",
    "import pandas as pd # data processing, CSV file I/O (e.g. pd.read_csv)\n",
    "\n",
    "# Input data files are available in the read-only \"../input/\" directory\n",
    "# For example, running this (by clicking run or pressing Shift+Enter) will list all files under the input directory\n",
    "\n",
    "import os\n",
    "for dirname, _, filenames in os.walk('/kaggle/input'):\n",
    "    for filename in filenames:\n",
    "        print(os.path.join(dirname, filename))\n",
    "\n",
    "# You can write up to 20GB to the current directory (/kaggle/working/) that gets preserved as output when you create a version using \"Save & Run All\" \n",
    "# You can also write temporary files to /kaggle/temp/, but they won't be saved outside of the current session"
   ]
  },
  {
   "cell_type": "code",
   "execution_count": 6,
   "metadata": {
    "execution": {
     "iopub.execute_input": "2025-04-24T02:21:18.695455Z",
     "iopub.status.busy": "2025-04-24T02:21:18.695148Z",
     "iopub.status.idle": "2025-04-24T02:21:18.700796Z",
     "shell.execute_reply": "2025-04-24T02:21:18.700050Z",
     "shell.execute_reply.started": "2025-04-24T02:21:18.695434Z"
    },
    "trusted": true
   },
   "outputs": [],
   "source": [
    "from datasets import load_dataset\n",
    "import torch\n",
    "from transformers import ViTModel, BertModel, BertTokenizer\n",
    "from torch.utils.data import Dataset, DataLoader\n",
    "from torch.optim import AdamW\n",
    "from torch import nn\n",
    "from torch.cuda.amp import GradScaler, autocast\n",
    "from torch.optim.lr_scheduler import ReduceLROnPlateau\n",
    "from tqdm import tqdm\n",
    "from datasets import load_dataset\n",
    "from PIL import Image\n",
    "import io\n",
    "import json\n",
    "import os\n",
    "from torchvision import transforms\n",
    "from huggingface_hub import HfApi, login\n"
   ]
  },
  {
   "cell_type": "code",
   "execution_count": 8,
   "metadata": {
    "execution": {
     "iopub.execute_input": "2025-04-24T02:21:24.389000Z",
     "iopub.status.busy": "2025-04-24T02:21:24.388520Z",
     "iopub.status.idle": "2025-04-24T02:21:25.713802Z",
     "shell.execute_reply": "2025-04-24T02:21:25.713292Z",
     "shell.execute_reply.started": "2025-04-24T02:21:24.388975Z"
    },
    "trusted": true
   },
   "outputs": [],
   "source": [
    "ds = load_dataset('khoadole/cars_8k_balance_dataset_full_augmented_v2')"
   ]
  },
  {
   "cell_type": "code",
   "execution_count": 9,
   "metadata": {
    "execution": {
     "iopub.execute_input": "2025-04-24T02:21:29.847735Z",
     "iopub.status.busy": "2025-04-24T02:21:29.847450Z",
     "iopub.status.idle": "2025-04-24T02:21:29.851805Z",
     "shell.execute_reply": "2025-04-24T02:21:29.850949Z",
     "shell.execute_reply.started": "2025-04-24T02:21:29.847714Z"
    },
    "trusted": true
   },
   "outputs": [],
   "source": [
    "color_list = ['blue', 'white', 'black', 'gray', 'silver']\n",
    "brand_list = ['bentley', 'audi', 'bmw', 'acura']\n",
    "\n",
    "def get_answer_type(answer):\n",
    "    if answer in color_list:\n",
    "        return 'color'\n",
    "    elif answer in brand_list:\n",
    "        return 'brand'\n",
    "    else:\n",
    "        return 'car_name'"
   ]
  },
  {
   "cell_type": "code",
   "execution_count": 24,
   "metadata": {
    "execution": {
     "iopub.execute_input": "2025-04-24T02:42:21.869964Z",
     "iopub.status.busy": "2025-04-24T02:42:21.869623Z",
     "iopub.status.idle": "2025-04-24T02:42:21.877528Z",
     "shell.execute_reply": "2025-04-24T02:42:21.876675Z",
     "shell.execute_reply.started": "2025-04-24T02:42:21.869940Z"
    },
    "trusted": true
   },
   "outputs": [],
   "source": [
    "class VQADataset(Dataset):\n",
    "    def __init__(self, dataset, tokenizer, answer_to_idx):\n",
    "        self.dataset = dataset\n",
    "        self.tokenizer = tokenizer\n",
    "        self.answer_to_idx = answer_to_idx\n",
    "        self.transform = transforms.Compose([\n",
    "            transforms.Resize((224, 224)),\n",
    "            transforms.ToTensor(),\n",
    "            transforms.Normalize(mean=[0.485, 0.456, 0.406], std=[0.229, 0.224, 0.225]),\n",
    "        ])\n",
    "        # Định nghĩa mapping cho answer_type\n",
    "        self.answer_type_map = {'color': 0, 'brand': 1, 'car_name': 2}\n",
    "\n",
    "    def __len__(self):\n",
    "        return len(self.dataset)\n",
    "\n",
    "    def __getitem__(self, idx):\n",
    "        sample = self.dataset[idx]\n",
    "        image_bytes = sample['image']['bytes']\n",
    "        image = Image.open(io.BytesIO(image_bytes)).convert('RGB')\n",
    "        image_tensor = self.transform(image)\n",
    "        question = sample['question']\n",
    "        tokenized = self.tokenizer(question, padding='max_length', truncation=True, max_length=32, return_tensors='pt')\n",
    "        input_ids = tokenized['input_ids'].squeeze(0)\n",
    "        attention_mask = tokenized['attention_mask'].squeeze(0)\n",
    "        answer = sample['answer']\n",
    "        answer_idx = self.answer_to_idx.get(answer, -1)\n",
    "        answer_type = torch.tensor(self.answer_type_map[get_answer_type(answer)], dtype=torch.long)  # Chuyển thành tensor\n",
    "        return image_tensor, input_ids, attention_mask, answer_idx, answer_type"
   ]
  },
  {
   "cell_type": "code",
   "execution_count": 30,
   "metadata": {
    "execution": {
     "iopub.execute_input": "2025-04-24T02:42:53.920782Z",
     "iopub.status.busy": "2025-04-24T02:42:53.920546Z",
     "iopub.status.idle": "2025-04-24T02:42:53.927376Z",
     "shell.execute_reply": "2025-04-24T02:42:53.926626Z",
     "shell.execute_reply.started": "2025-04-24T02:42:53.920766Z"
    },
    "trusted": true
   },
   "outputs": [],
   "source": [
    "class VQAModel(nn.Module):\n",
    "    def __init__(self, num_answers):\n",
    "        super(VQAModel, self).__init__()\n",
    "        self.vit = ViTModel.from_pretrained('google/vit-base-patch16-224')\n",
    "        self.bert = BertModel.from_pretrained('bert-base-uncased')\n",
    "        self.classifier = nn.Sequential(\n",
    "            nn.Dropout(0.5),\n",
    "            nn.Linear(768 * 3, 1024),\n",
    "            nn.ReLU(),\n",
    "            nn.Linear(1024, 512),\n",
    "            nn.ReLU(),\n",
    "            nn.Linear(512, num_answers)\n",
    "        )\n",
    "        for param in self.vit.encoder.layer[:6].parameters():\n",
    "            param.requires_grad = False\n",
    "        # for param in self.bert.encoder.layer[:6].parameters():\n",
    "        #     param.requires_grad = False\n",
    "\n",
    "    def forward(self, image, input_ids, attention_mask):\n",
    "        image_features = self.vit(image).last_hidden_state[:, 0, :]\n",
    "        text_features = self.bert(input_ids, attention_mask=attention_mask).last_hidden_state[:, 0, :]\n",
    "        combined = torch.cat([image_features, text_features, image_features * text_features], dim=1)\n",
    "        output = self.classifier(combined)\n",
    "        return output"
   ]
  },
  {
   "cell_type": "code",
   "execution_count": 31,
   "metadata": {
    "execution": {
     "iopub.execute_input": "2025-04-24T02:42:57.229947Z",
     "iopub.status.busy": "2025-04-24T02:42:57.229669Z",
     "iopub.status.idle": "2025-04-24T02:42:58.923278Z",
     "shell.execute_reply": "2025-04-24T02:42:58.922463Z",
     "shell.execute_reply.started": "2025-04-24T02:42:57.229926Z"
    },
    "trusted": true
   },
   "outputs": [
    {
     "name": "stderr",
     "output_type": "stream",
     "text": [
      "Some weights of ViTModel were not initialized from the model checkpoint at google/vit-base-patch16-224 and are newly initialized: ['pooler.dense.bias', 'pooler.dense.weight']\n",
      "You should probably TRAIN this model on a down-stream task to be able to use it for predictions and inference.\n",
      "/tmp/ipykernel_31/1126064032.py:17: FutureWarning: `torch.cuda.amp.GradScaler(args...)` is deprecated. Please use `torch.amp.GradScaler('cuda', args...)` instead.\n",
      "  scaler = GradScaler()\n"
     ]
    }
   ],
   "source": [
    "all_train_answers = list(set(sample['answer'] for sample in ds['train']))\n",
    "answer_to_idx = {answer: idx for idx, answer in enumerate(all_train_answers)}\n",
    "\n",
    "tokenizer = BertTokenizer.from_pretrained('bert-base-uncased')\n",
    "train_dataset = VQADataset(ds['train'], tokenizer, answer_to_idx)\n",
    "val_dataset = VQADataset(ds['validation'], tokenizer, answer_to_idx)\n",
    "test_dataset = VQADataset(ds['test'], tokenizer, answer_to_idx)\n",
    "\n",
    "train_loader = DataLoader(train_dataset, batch_size=32, shuffle=True, num_workers=4, pin_memory=True)\n",
    "val_loader = DataLoader(val_dataset, batch_size=32, shuffle=False, num_workers=4, pin_memory=True)\n",
    "test_loader = DataLoader(test_dataset, batch_size=32, shuffle=False, num_workers=4, pin_memory=True)\n",
    "\n",
    "# Khởi tạo mô hình và tối ưu\n",
    "device = 'cuda' if torch.cuda.is_available() else 'cpu'\n",
    "model = VQAModel(num_answers=len(answer_to_idx)).to(device)\n",
    "optimizer = AdamW(model.parameters(), lr=5e-5, weight_decay=0.01)\n",
    "scaler = GradScaler()\n",
    "scheduler = ReduceLROnPlateau(optimizer, mode='max', factor=0.1, patience=3, verbose=True)\n",
    "loss_fn = nn.CrossEntropyLoss(label_smoothing=0.1)"
   ]
  },
  {
   "cell_type": "code",
   "execution_count": 32,
   "metadata": {
    "execution": {
     "iopub.execute_input": "2025-04-24T02:43:02.774107Z",
     "iopub.status.busy": "2025-04-24T02:43:02.773435Z",
     "iopub.status.idle": "2025-04-24T03:30:10.149690Z",
     "shell.execute_reply": "2025-04-24T03:30:10.148751Z",
     "shell.execute_reply.started": "2025-04-24T02:43:02.774084Z"
    },
    "trusted": true
   },
   "outputs": [
    {
     "name": "stderr",
     "output_type": "stream",
     "text": [
      "Epoch 1/20 - Training:   0%|          | 0/484 [00:00<?, ?it/s]/tmp/ipykernel_31/1739431023.py:32: FutureWarning: `torch.cuda.amp.autocast(args...)` is deprecated. Please use `torch.amp.autocast('cuda', args...)` instead.\n",
      "  with autocast():\n",
      "Epoch 1/20 - Training: 100%|██████████| 484/484 [02:50<00:00,  2.85it/s]\n"
     ]
    },
    {
     "name": "stdout",
     "output_type": "stream",
     "text": [
      "Epoch 1, Train Loss: 1.7256\n",
      "Color Loss: 1.4435, Brand Loss: 1.3669, Car Name Loss: 2.3684\n"
     ]
    },
    {
     "name": "stderr",
     "output_type": "stream",
     "text": [
      "Epoch 1/20 - Validation:   0%|          | 0/151 [00:00<?, ?it/s]/tmp/ipykernel_31/1739431023.py:76: FutureWarning: `torch.cuda.amp.autocast(args...)` is deprecated. Please use `torch.amp.autocast('cuda', args...)` instead.\n",
      "  with autocast():\n",
      "Epoch 1/20 - Validation: 100%|██████████| 151/151 [00:17<00:00,  8.78it/s]\n"
     ]
    },
    {
     "name": "stdout",
     "output_type": "stream",
     "text": [
      "Epoch 1, Validation Accuracy: 0.7168\n"
     ]
    },
    {
     "name": "stderr",
     "output_type": "stream",
     "text": [
      "Epoch 2/20 - Training: 100%|██████████| 484/484 [02:50<00:00,  2.84it/s]\n"
     ]
    },
    {
     "name": "stdout",
     "output_type": "stream",
     "text": [
      "Epoch 2, Train Loss: 1.0800\n",
      "Color Loss: 1.0459, Brand Loss: 0.7269, Car Name Loss: 1.4684\n"
     ]
    },
    {
     "name": "stderr",
     "output_type": "stream",
     "text": [
      "Epoch 2/20 - Validation: 100%|██████████| 151/151 [00:17<00:00,  8.79it/s]\n"
     ]
    },
    {
     "name": "stdout",
     "output_type": "stream",
     "text": [
      "Epoch 2, Validation Accuracy: 0.7670\n"
     ]
    },
    {
     "name": "stderr",
     "output_type": "stream",
     "text": [
      "Epoch 3/20 - Training: 100%|██████████| 484/484 [02:50<00:00,  2.84it/s]\n"
     ]
    },
    {
     "name": "stdout",
     "output_type": "stream",
     "text": [
      "Epoch 3, Train Loss: 0.9248\n",
      "Color Loss: 0.8959, Brand Loss: 0.6699, Car Name Loss: 1.2096\n"
     ]
    },
    {
     "name": "stderr",
     "output_type": "stream",
     "text": [
      "Epoch 3/20 - Validation: 100%|██████████| 151/151 [00:17<00:00,  8.78it/s]\n"
     ]
    },
    {
     "name": "stdout",
     "output_type": "stream",
     "text": [
      "Epoch 3, Validation Accuracy: 0.7846\n"
     ]
    },
    {
     "name": "stderr",
     "output_type": "stream",
     "text": [
      "Epoch 4/20 - Training: 100%|██████████| 484/484 [02:50<00:00,  2.84it/s]\n"
     ]
    },
    {
     "name": "stdout",
     "output_type": "stream",
     "text": [
      "Epoch 4, Train Loss: 0.8158\n",
      "Color Loss: 0.7597, Brand Loss: 0.6519, Car Name Loss: 1.0355\n"
     ]
    },
    {
     "name": "stderr",
     "output_type": "stream",
     "text": [
      "Epoch 4/20 - Validation: 100%|██████████| 151/151 [00:17<00:00,  8.75it/s]\n"
     ]
    },
    {
     "name": "stdout",
     "output_type": "stream",
     "text": [
      "Epoch 4, Validation Accuracy: 0.8174\n"
     ]
    },
    {
     "name": "stderr",
     "output_type": "stream",
     "text": [
      "Epoch 5/20 - Training: 100%|██████████| 484/484 [02:50<00:00,  2.84it/s]\n"
     ]
    },
    {
     "name": "stdout",
     "output_type": "stream",
     "text": [
      "Epoch 5, Train Loss: 0.7473\n",
      "Color Loss: 0.7029, Brand Loss: 0.6486, Car Name Loss: 0.8906\n"
     ]
    },
    {
     "name": "stderr",
     "output_type": "stream",
     "text": [
      "Epoch 5/20 - Validation: 100%|██████████| 151/151 [00:17<00:00,  8.75it/s]\n"
     ]
    },
    {
     "name": "stdout",
     "output_type": "stream",
     "text": [
      "Epoch 5, Validation Accuracy: 0.8263\n"
     ]
    },
    {
     "name": "stderr",
     "output_type": "stream",
     "text": [
      "Epoch 6/20 - Training: 100%|██████████| 484/484 [02:50<00:00,  2.84it/s]\n"
     ]
    },
    {
     "name": "stdout",
     "output_type": "stream",
     "text": [
      "Epoch 6, Train Loss: 0.6902\n",
      "Color Loss: 0.6662, Brand Loss: 0.6395, Car Name Loss: 0.7649\n"
     ]
    },
    {
     "name": "stderr",
     "output_type": "stream",
     "text": [
      "Epoch 6/20 - Validation: 100%|██████████| 151/151 [00:17<00:00,  8.71it/s]\n"
     ]
    },
    {
     "name": "stdout",
     "output_type": "stream",
     "text": [
      "Epoch 6, Validation Accuracy: 0.8317\n"
     ]
    },
    {
     "name": "stderr",
     "output_type": "stream",
     "text": [
      "Epoch 7/20 - Training: 100%|██████████| 484/484 [02:50<00:00,  2.84it/s]\n"
     ]
    },
    {
     "name": "stdout",
     "output_type": "stream",
     "text": [
      "Epoch 7, Train Loss: 0.6621\n",
      "Color Loss: 0.6525, Brand Loss: 0.6367, Car Name Loss: 0.6971\n"
     ]
    },
    {
     "name": "stderr",
     "output_type": "stream",
     "text": [
      "Epoch 7/20 - Validation: 100%|██████████| 151/151 [00:17<00:00,  8.73it/s]\n"
     ]
    },
    {
     "name": "stdout",
     "output_type": "stream",
     "text": [
      "Epoch 7, Validation Accuracy: 0.8396\n"
     ]
    },
    {
     "name": "stderr",
     "output_type": "stream",
     "text": [
      "Epoch 8/20 - Training: 100%|██████████| 484/484 [02:50<00:00,  2.85it/s]\n"
     ]
    },
    {
     "name": "stdout",
     "output_type": "stream",
     "text": [
      "Epoch 8, Train Loss: 0.6505\n",
      "Color Loss: 0.6458, Brand Loss: 0.6345, Car Name Loss: 0.6712\n"
     ]
    },
    {
     "name": "stderr",
     "output_type": "stream",
     "text": [
      "Epoch 8/20 - Validation: 100%|██████████| 151/151 [00:17<00:00,  8.74it/s]\n"
     ]
    },
    {
     "name": "stdout",
     "output_type": "stream",
     "text": [
      "Epoch 8, Validation Accuracy: 0.8462\n"
     ]
    },
    {
     "name": "stderr",
     "output_type": "stream",
     "text": [
      "Epoch 9/20 - Training: 100%|██████████| 484/484 [02:49<00:00,  2.85it/s]\n"
     ]
    },
    {
     "name": "stdout",
     "output_type": "stream",
     "text": [
      "Epoch 9, Train Loss: 0.6432\n",
      "Color Loss: 0.6405, Brand Loss: 0.6324, Car Name Loss: 0.6565\n"
     ]
    },
    {
     "name": "stderr",
     "output_type": "stream",
     "text": [
      "Epoch 9/20 - Validation: 100%|██████████| 151/151 [00:17<00:00,  8.77it/s]\n"
     ]
    },
    {
     "name": "stdout",
     "output_type": "stream",
     "text": [
      "Epoch 9, Validation Accuracy: 0.8416\n"
     ]
    },
    {
     "name": "stderr",
     "output_type": "stream",
     "text": [
      "Epoch 10/20 - Training: 100%|██████████| 484/484 [02:49<00:00,  2.85it/s]\n"
     ]
    },
    {
     "name": "stdout",
     "output_type": "stream",
     "text": [
      "Epoch 10, Train Loss: 0.6383\n",
      "Color Loss: 0.6372, Brand Loss: 0.6296, Car Name Loss: 0.6483\n"
     ]
    },
    {
     "name": "stderr",
     "output_type": "stream",
     "text": [
      "Epoch 10/20 - Validation: 100%|██████████| 151/151 [00:17<00:00,  8.76it/s]\n"
     ]
    },
    {
     "name": "stdout",
     "output_type": "stream",
     "text": [
      "Epoch 10, Validation Accuracy: 0.8532\n"
     ]
    },
    {
     "name": "stderr",
     "output_type": "stream",
     "text": [
      "Epoch 11/20 - Training: 100%|██████████| 484/484 [02:50<00:00,  2.84it/s]\n"
     ]
    },
    {
     "name": "stdout",
     "output_type": "stream",
     "text": [
      "Epoch 11, Train Loss: 0.6364\n",
      "Color Loss: 0.6363, Brand Loss: 0.6289, Car Name Loss: 0.6441\n"
     ]
    },
    {
     "name": "stderr",
     "output_type": "stream",
     "text": [
      "Epoch 11/20 - Validation: 100%|██████████| 151/151 [00:17<00:00,  8.76it/s]\n"
     ]
    },
    {
     "name": "stdout",
     "output_type": "stream",
     "text": [
      "Epoch 11, Validation Accuracy: 0.8474\n"
     ]
    },
    {
     "name": "stderr",
     "output_type": "stream",
     "text": [
      "Epoch 12/20 - Training: 100%|██████████| 484/484 [02:50<00:00,  2.85it/s]\n"
     ]
    },
    {
     "name": "stdout",
     "output_type": "stream",
     "text": [
      "Epoch 12, Train Loss: 0.6985\n",
      "Color Loss: 0.7076, Brand Loss: 0.6552, Car Name Loss: 0.7329\n"
     ]
    },
    {
     "name": "stderr",
     "output_type": "stream",
     "text": [
      "Epoch 12/20 - Validation: 100%|██████████| 151/151 [00:17<00:00,  8.78it/s]\n"
     ]
    },
    {
     "name": "stdout",
     "output_type": "stream",
     "text": [
      "Epoch 12, Validation Accuracy: 0.8371\n"
     ]
    },
    {
     "name": "stderr",
     "output_type": "stream",
     "text": [
      "Epoch 13/20 - Training: 100%|██████████| 484/484 [02:50<00:00,  2.85it/s]\n"
     ]
    },
    {
     "name": "stdout",
     "output_type": "stream",
     "text": [
      "Epoch 13, Train Loss: 1.0892\n",
      "Color Loss: 0.9267, Brand Loss: 1.1615, Car Name Loss: 1.1775\n"
     ]
    },
    {
     "name": "stderr",
     "output_type": "stream",
     "text": [
      "Epoch 13/20 - Validation: 100%|██████████| 151/151 [00:17<00:00,  8.80it/s]\n"
     ]
    },
    {
     "name": "stdout",
     "output_type": "stream",
     "text": [
      "Epoch 13, Validation Accuracy: 0.2805\n"
     ]
    },
    {
     "name": "stderr",
     "output_type": "stream",
     "text": [
      "Epoch 14/20 - Training: 100%|██████████| 484/484 [02:50<00:00,  2.85it/s]\n"
     ]
    },
    {
     "name": "stdout",
     "output_type": "stream",
     "text": [
      "Epoch 14, Train Loss: 1.7739\n",
      "Color Loss: 1.3036, Brand Loss: 1.9014, Car Name Loss: 2.1174\n"
     ]
    },
    {
     "name": "stderr",
     "output_type": "stream",
     "text": [
      "Epoch 14/20 - Validation: 100%|██████████| 151/151 [00:17<00:00,  8.75it/s]\n"
     ]
    },
    {
     "name": "stdout",
     "output_type": "stream",
     "text": [
      "Epoch 14, Validation Accuracy: 0.2915\n"
     ]
    },
    {
     "name": "stderr",
     "output_type": "stream",
     "text": [
      "Epoch 15/20 - Training: 100%|██████████| 484/484 [02:50<00:00,  2.84it/s]\n"
     ]
    },
    {
     "name": "stdout",
     "output_type": "stream",
     "text": [
      "Epoch 15, Train Loss: 1.6757\n",
      "Color Loss: 1.2338, Brand Loss: 1.8549, Car Name Loss: 1.9393\n"
     ]
    },
    {
     "name": "stderr",
     "output_type": "stream",
     "text": [
      "Epoch 15/20 - Validation: 100%|██████████| 151/151 [00:17<00:00,  8.76it/s]"
     ]
    },
    {
     "name": "stdout",
     "output_type": "stream",
     "text": [
      "Epoch 15, Validation Accuracy: 0.2865\n",
      "Early stopping triggered!\n"
     ]
    },
    {
     "name": "stderr",
     "output_type": "stream",
     "text": [
      "\n"
     ]
    }
   ],
   "source": [
    "# Training loop\n",
    "num_epochs = 20\n",
    "best_val_acc = 0\n",
    "patience = 5\n",
    "patience_counter = 0\n",
    "color_loss_weight = 2.0\n",
    "answer_type_map_reverse = {0: 'color', 1: 'brand', 2: 'car_name'}  # Để map ngược lại từ số sang string\n",
    "\n",
    "for epoch in range(num_epochs):\n",
    "    model.train()\n",
    "    total_loss = 0\n",
    "    total_color_loss = 0\n",
    "    total_brand_loss = 0\n",
    "    total_car_name_loss = 0\n",
    "    color_count = 0\n",
    "    brand_count = 0\n",
    "    car_name_count = 0\n",
    "\n",
    "    for batch in tqdm(train_loader, desc=f\"Epoch {epoch+1}/{num_epochs} - Training\"):\n",
    "        image, input_ids, attention_mask, answer_idx, answer_type = [x.to(device) for x in batch]\n",
    "        valid_mask = answer_idx != -1\n",
    "        if not valid_mask.any():\n",
    "            continue\n",
    "        # Lọc các tensor bằng valid_mask\n",
    "        image = image[valid_mask]\n",
    "        input_ids = input_ids[valid_mask]\n",
    "        attention_mask = attention_mask[valid_mask]\n",
    "        answer_idx = answer_idx[valid_mask]\n",
    "        answer_type = answer_type[valid_mask]  # answer_type giờ là tensor\n",
    "\n",
    "        optimizer.zero_grad()\n",
    "        with autocast():\n",
    "            output = model(image, input_ids, attention_mask)\n",
    "            loss = loss_fn(output, answer_idx)\n",
    "            weighted_loss = torch.zeros_like(loss)\n",
    "            for i in range(len(answer_type)):\n",
    "                ans_type_str = answer_type_map_reverse[answer_type[i].item()]  # Map ngược lại thành string\n",
    "                if ans_type_str == 'color':\n",
    "                    weighted_loss += loss_fn(output[i].unsqueeze(0), answer_idx[i].unsqueeze(0)) * color_loss_weight\n",
    "                    total_color_loss += loss_fn(output[i].unsqueeze(0), answer_idx[i].unsqueeze(0)).item()\n",
    "                    color_count += 1\n",
    "                elif ans_type_str == 'brand':\n",
    "                    weighted_loss += loss_fn(output[i].unsqueeze(0), answer_idx[i].unsqueeze(0))\n",
    "                    total_brand_loss += loss_fn(output[i].unsqueeze(0), answer_idx[i].unsqueeze(0)).item()\n",
    "                    brand_count += 1\n",
    "                else:\n",
    "                    weighted_loss += loss_fn(output[i].unsqueeze(0), answer_idx[i].unsqueeze(0))\n",
    "                    total_car_name_loss += loss_fn(output[i].unsqueeze(0), answer_idx[i].unsqueeze(0)).item()\n",
    "                    car_name_count += 1\n",
    "        scaler.scale(weighted_loss).backward()\n",
    "        scaler.step(optimizer)\n",
    "        scaler.update()\n",
    "        total_loss += loss.item()\n",
    "\n",
    "    avg_train_loss = total_loss / len(train_loader)\n",
    "    avg_color_loss = total_color_loss / color_count if color_count > 0 else 0\n",
    "    avg_brand_loss = total_brand_loss / brand_count if brand_count > 0 else 0\n",
    "    avg_car_name_loss = total_car_name_loss / car_name_count if car_name_count > 0 else 0\n",
    "    print(f\"Epoch {epoch+1}, Train Loss: {avg_train_loss:.4f}\")\n",
    "    print(f\"Color Loss: {avg_color_loss:.4f}, Brand Loss: {avg_brand_loss:.4f}, Car Name Loss: {avg_car_name_loss:.4f}\")\n",
    "\n",
    "    # Validation\n",
    "    model.eval()\n",
    "    correct = 0\n",
    "    total = 0\n",
    "    with torch.no_grad():\n",
    "        for batch in tqdm(val_loader, desc=f\"Epoch {epoch+1}/{num_epochs} - Validation\"):\n",
    "            image, input_ids, attention_mask, answer_idx, _ = [x.to(device) for x in batch]\n",
    "            valid_mask = answer_idx != -1\n",
    "            if not valid_mask.any():\n",
    "                continue\n",
    "            image = image[valid_mask]\n",
    "            input_ids = input_ids[valid_mask]\n",
    "            attention_mask = attention_mask[valid_mask]\n",
    "            answer_idx = answer_idx[valid_mask]\n",
    "            with autocast():\n",
    "                output = model(image, input_ids, attention_mask)\n",
    "            pred = output.argmax(dim=1)\n",
    "            correct += (pred == answer_idx).sum().item()\n",
    "            total += answer_idx.size(0)\n",
    "    val_accuracy = correct / total if total > 0 else 0\n",
    "    print(f\"Epoch {epoch+1}, Validation Accuracy: {val_accuracy:.4f}\")\n",
    "\n",
    "    scheduler.step(val_accuracy)\n",
    "    if val_accuracy > best_val_acc:\n",
    "        best_val_acc = val_accuracy\n",
    "        patience_counter = 0\n",
    "        torch.save(model.state_dict(), 'best_vqa_model.pth')\n",
    "    else:\n",
    "        patience_counter += 1\n",
    "        if patience_counter >= patience:\n",
    "            print(\"Early stopping triggered!\")\n",
    "            break"
   ]
  },
  {
   "cell_type": "code",
   "execution_count": 33,
   "metadata": {
    "execution": {
     "iopub.execute_input": "2025-04-24T03:33:27.263833Z",
     "iopub.status.busy": "2025-04-24T03:33:27.263522Z",
     "iopub.status.idle": "2025-04-24T03:33:46.845239Z",
     "shell.execute_reply": "2025-04-24T03:33:46.844388Z",
     "shell.execute_reply.started": "2025-04-24T03:33:27.263806Z"
    },
    "trusted": true
   },
   "outputs": [
    {
     "name": "stderr",
     "output_type": "stream",
     "text": [
      "Test:   0%|          | 0/162 [00:00<?, ?it/s]/tmp/ipykernel_31/2637264605.py:39: FutureWarning: `torch.cuda.amp.autocast(args...)` is deprecated. Please use `torch.amp.autocast('cuda', args...)` instead.\n",
      "  with autocast():\n",
      "Test: 100%|██████████| 162/162 [00:18<00:00,  8.55it/s]"
     ]
    },
    {
     "name": "stdout",
     "output_type": "stream",
     "text": [
      "Test Total Accuracy: 0.8256\n",
      "Test Color Accuracy: 0.8050, Brand Accuracy: 0.9389, Car Name Accuracy: 0.7328\n",
      "Test Color Loss: 1.2076, Brand Loss: 0.8071, Car Name Loss: 1.3488\n",
      "\n",
      "Top 4 màu sai nhiều nhất:\n",
      "- gray: 0.2980 (29.80%), xuất hiện 245 lần\n",
      "  Nhầm lẫn với:\n",
      "    + white: 9 lần\n",
      "    + black: 33 lần\n",
      "    + silver: 29 lần\n",
      "    + blue: 2 lần\n",
      "- silver: 0.2823 (28.23%), xuất hiện 248 lần\n",
      "  Nhầm lẫn với:\n",
      "    + gray: 20 lần\n",
      "    + black: 22 lần\n",
      "    + blue: 9 lần\n",
      "    + white: 19 lần\n",
      "- blue: 0.2153 (21.53%), xuất hiện 339 lần\n",
      "  Nhầm lẫn với:\n",
      "    + silver: 25 lần\n",
      "    + black: 46 lần\n",
      "    + white: 1 lần\n",
      "    + gray: 1 lần\n",
      "- black: 0.1630 (16.30%), xuất hiện 368 lần\n",
      "  Nhầm lẫn với:\n",
      "    + white: 23 lần\n",
      "    + gray: 19 lần\n",
      "    + silver: 13 lần\n",
      "    + blue: 5 lần\n",
      "\n",
      "Top 4 hãng xe sai nhiều nhất:\n",
      "- bmw: 0.1106 (11.06%), xuất hiện 425 lần\n",
      "  Nhầm lẫn với:\n",
      "    + acura: 8 lần\n",
      "    + bentley: 13 lần\n",
      "    + audi: 26 lần\n",
      "- audi: 0.0769 (7.69%), xuất hiện 442 lần\n",
      "  Nhầm lẫn với:\n",
      "    + bentley: 21 lần\n",
      "    + acura: 5 lần\n",
      "    + bmw: 8 lần\n",
      "- acura: 0.0377 (3.77%), xuất hiện 371 lần\n",
      "  Nhầm lẫn với:\n",
      "    + audi: 7 lần\n",
      "    + bmw: 6 lần\n",
      "    + bentley: 1 lần\n",
      "- bentley: 0.0208 (2.08%), xuất hiện 480 lần\n",
      "  Nhầm lẫn với:\n",
      "    + audi: 5 lần\n",
      "    + acura: 2 lần\n",
      "    + bmw: 3 lần\n",
      "\n",
      "Top 4 tên xe sai nhiều nhất:\n",
      "- Bentley Mulsanne: 0.8700 (87.00%), xuất hiện 100 lần\n",
      "  Nhầm lẫn với:\n",
      "    + Bentley Flying: 34 lần\n",
      "    + Bentley Continental: 5 lần\n",
      "    + Bentley Bentayga: 48 lần\n",
      "- BMW 330: 0.5400 (54.00%), xuất hiện 100 lần\n",
      "  Nhầm lẫn với:\n",
      "    + BMW X5: 3 lần\n",
      "    + Bentley Continental: 2 lần\n",
      "    + BMW X3: 2 lần\n",
      "    + Audi A4: 34 lần\n",
      "    + Bentley Flying: 7 lần\n",
      "    + Acura TLX: 3 lần\n",
      "    + Acura ILX: 1 lần\n",
      "    + BMW X1: 2 lần\n",
      "- BMW X1: 0.5000 (50.00%), xuất hiện 42 lần\n",
      "  Nhầm lẫn với:\n",
      "    + BMW X5: 7 lần\n",
      "    + BMW X3: 8 lần\n",
      "    + Acura MDX: 3 lần\n",
      "    + Audi Q3: 1 lần\n",
      "    + Audi Q5: 1 lần\n",
      "    + Bentley Bentayga: 1 lần\n",
      "- Acura ILX: 0.4839 (48.39%), xuất hiện 31 lần\n",
      "  Nhầm lẫn với:\n",
      "    + Acura RDX: 3 lần\n",
      "    + Acura TLX: 10 lần\n",
      "    + Audi A4: 1 lần\n",
      "    + Bentley Continental: 1 lần\n"
     ]
    },
    {
     "name": "stderr",
     "output_type": "stream",
     "text": [
      "\n"
     ]
    }
   ],
   "source": [
    "from collections import defaultdict\n",
    "# Test\n",
    "model.load_state_dict(torch.load('best_vqa_model.pth', weights_only=True))\n",
    "model.eval()\n",
    "correct_color = 0\n",
    "total_color = 0\n",
    "correct_brand = 0\n",
    "total_brand = 0\n",
    "correct_car_name = 0\n",
    "total_car_name = 0\n",
    "total_correct = 0\n",
    "total_samples = 0\n",
    "total_color_loss = 0\n",
    "total_brand_loss = 0\n",
    "total_car_name_loss = 0\n",
    "color_count = 0\n",
    "brand_count = 0\n",
    "car_name_count = 0\n",
    "answer_type_map_reverse = {0: 'color', 1: 'brand', 2: 'car_name'}\n",
    "idx_to_answer = {idx: answer for answer, idx in answer_to_idx.items()}  # Map ngược từ idx sang answer\n",
    "\n",
    "# Theo dõi số lần xuất hiện, đúng, và nhầm lẫn\n",
    "color_stats = defaultdict(lambda: {'correct': 0, 'total': 0, 'confusion': defaultdict(int)})\n",
    "brand_stats = defaultdict(lambda: {'correct': 0, 'total': 0, 'confusion': defaultdict(int)})\n",
    "car_name_stats = defaultdict(lambda: {'correct': 0, 'total': 0, 'confusion': defaultdict(int)})\n",
    "\n",
    "with torch.no_grad():\n",
    "    for batch in tqdm(test_loader, desc=\"Test\"):\n",
    "        image, input_ids, attention_mask, answer_idx, answer_type = [x.to(device) for x in batch]\n",
    "        valid_mask = (answer_idx != -1).to(device)\n",
    "        if not valid_mask.any():\n",
    "            continue\n",
    "        image = image[valid_mask]\n",
    "        input_ids = input_ids[valid_mask]\n",
    "        attention_mask = attention_mask[valid_mask]\n",
    "        answer_idx = answer_idx[valid_mask]\n",
    "        answer_type = answer_type[valid_mask]\n",
    "\n",
    "        with autocast():\n",
    "            output = model(image, input_ids, attention_mask)\n",
    "            loss = loss_fn(output, answer_idx)\n",
    "        pred = output.argmax(dim=1)\n",
    "        total_correct += (pred == answer_idx).sum().item()\n",
    "        total_samples += answer_idx.size(0)\n",
    "\n",
    "        for i in range(len(answer_type)):\n",
    "            ans_type_str = answer_type_map_reverse[answer_type[i].item()]\n",
    "            true_answer = idx_to_answer[answer_idx[i].item()]\n",
    "            pred_answer = idx_to_answer[pred[i].item()]\n",
    "            is_correct = pred[i] == answer_idx[i]\n",
    "\n",
    "            if ans_type_str == 'color':\n",
    "                total_color += 1\n",
    "                total_color_loss += loss_fn(output[i].unsqueeze(0), answer_idx[i].unsqueeze(0)).item()\n",
    "                color_count += 1\n",
    "                if is_correct:\n",
    "                    correct_color += 1\n",
    "                color_stats[true_answer]['total'] += 1\n",
    "                if is_correct:\n",
    "                    color_stats[true_answer]['correct'] += 1\n",
    "                else:\n",
    "                    color_stats[true_answer]['confusion'][pred_answer] += 1\n",
    "\n",
    "            elif ans_type_str == 'brand':\n",
    "                total_brand += 1\n",
    "                total_brand_loss += loss_fn(output[i].unsqueeze(0), answer_idx[i].unsqueeze(0)).item()\n",
    "                brand_count += 1\n",
    "                if is_correct:\n",
    "                    correct_brand += 1\n",
    "                brand_stats[true_answer]['total'] += 1\n",
    "                if is_correct:\n",
    "                    brand_stats[true_answer]['correct'] += 1\n",
    "                else:\n",
    "                    brand_stats[true_answer]['confusion'][pred_answer] += 1\n",
    "\n",
    "            else:\n",
    "                total_car_name += 1\n",
    "                total_car_name_loss += loss_fn(output[i].unsqueeze(0), answer_idx[i].unsqueeze(0)).item()\n",
    "                car_name_count += 1\n",
    "                if is_correct:\n",
    "                    correct_car_name += 1\n",
    "                car_name_stats[true_answer]['total'] += 1\n",
    "                if is_correct:\n",
    "                    car_name_stats[true_answer]['correct'] += 1\n",
    "                else:\n",
    "                    car_name_stats[true_answer]['confusion'][pred_answer] += 1\n",
    "\n",
    "# Tính accuracy tổng và riêng\n",
    "test_color_accuracy = correct_color / total_color if total_color > 0 else 0\n",
    "test_brand_accuracy = correct_brand / total_brand if total_brand > 0 else 0\n",
    "test_car_name_accuracy = correct_car_name / total_car_name if total_car_name > 0 else 0\n",
    "test_total_accuracy = total_correct / total_samples if total_samples > 0 else 0\n",
    "avg_color_loss = total_color_loss / color_count if color_count > 0 else 0\n",
    "avg_brand_loss = total_brand_loss / brand_count if brand_count > 0 else 0\n",
    "avg_car_name_loss = total_car_name_loss / car_name_count if car_name_count > 0 else 0\n",
    "\n",
    "# Tính top 4 sai nhiều nhất và nhầm lẫn\n",
    "def get_top_errors(stats, category_name):\n",
    "    error_rates = []\n",
    "    for answer, stat in stats.items():\n",
    "        total = stat['total']\n",
    "        correct = stat['correct']\n",
    "        if total > 0:\n",
    "            error_rate = 1 - (correct / total)\n",
    "            error_rates.append((answer, error_rate, total, stat['confusion']))\n",
    "    error_rates.sort(key=lambda x: (x[1], x[2]), reverse=True)\n",
    "    top_4 = error_rates[:4]\n",
    "    print(f\"\\nTop 4 {category_name} sai nhiều nhất:\")\n",
    "    for answer, error_rate, total, confusion in top_4:\n",
    "        print(f\"- {answer}: {error_rate:.4f} ({(error_rate * 100):.2f}%), xuất hiện {total} lần\")\n",
    "        print(f\"  Nhầm lẫn với:\")\n",
    "        for pred_answer, count in confusion.items():\n",
    "            print(f\"    + {pred_answer}: {count} lần\")\n",
    "\n",
    "# In kết quả\n",
    "print(f\"Test Total Accuracy: {test_total_accuracy:.4f}\")\n",
    "print(f\"Test Color Accuracy: {test_color_accuracy:.4f}, Brand Accuracy: {test_brand_accuracy:.4f}, Car Name Accuracy: {test_car_name_accuracy:.4f}\")\n",
    "print(f\"Test Color Loss: {avg_color_loss:.4f}, Brand Loss: {avg_brand_loss:.4f}, Car Name Loss: {avg_car_name_loss:.4f}\")\n",
    "\n",
    "get_top_errors(color_stats, \"màu\")\n",
    "get_top_errors(brand_stats, \"hãng xe\")\n",
    "get_top_errors(car_name_stats, \"tên xe\")"
   ]
  },
  {
   "cell_type": "code",
   "execution_count": 34,
   "metadata": {
    "execution": {
     "iopub.execute_input": "2025-04-24T03:35:02.919607Z",
     "iopub.status.busy": "2025-04-24T03:35:02.919325Z",
     "iopub.status.idle": "2025-04-24T03:35:03.980673Z",
     "shell.execute_reply": "2025-04-24T03:35:03.979958Z",
     "shell.execute_reply.started": "2025-04-24T03:35:02.919585Z"
    },
    "trusted": true
   },
   "outputs": [],
   "source": [
    "save_path = \"/kaggle/working/my-vqa-model\"\n",
    "os.makedirs(save_path, exist_ok=True)\n",
    "torch.save(model.state_dict(), f\"{save_path}/pytorch_model.bin\")\n",
    "config = {\n",
    "    \"vit_model\": \"google/vit-base-patch16-224\",\n",
    "    \"bert_model\": \"bert-base-uncased\",\n",
    "    \"num_answers\": len(answer_to_idx),\n",
    "    \"architecture\": \"ViT+BERT with concatenation and multiplication fusion\"\n",
    "}\n",
    "with open(f\"{save_path}/config.json\", \"w\") as f:\n",
    "    json.dump(config, f)\n",
    "tokenizer.save_pretrained(save_path)\n",
    "with open(f\"{save_path}/answer_list.json\", \"w\") as f:\n",
    "    json.dump(all_train_answers, f)"
   ]
  },
  {
   "cell_type": "code",
   "execution_count": null,
   "metadata": {
    "trusted": true
   },
   "outputs": [],
   "source": []
  }
 ],
 "metadata": {
  "kaggle": {
   "accelerator": "nvidiaTeslaT4",
   "dataSources": [],
   "dockerImageVersionId": 31011,
   "isGpuEnabled": true,
   "isInternetEnabled": true,
   "language": "python",
   "sourceType": "notebook"
  },
  "kernelspec": {
   "display_name": "Python 3",
   "language": "python",
   "name": "python3"
  },
  "language_info": {
   "codemirror_mode": {
    "name": "ipython",
    "version": 3
   },
   "file_extension": ".py",
   "mimetype": "text/x-python",
   "name": "python",
   "nbconvert_exporter": "python",
   "pygments_lexer": "ipython3",
   "version": "3.11.11"
  }
 },
 "nbformat": 4,
 "nbformat_minor": 4
}
