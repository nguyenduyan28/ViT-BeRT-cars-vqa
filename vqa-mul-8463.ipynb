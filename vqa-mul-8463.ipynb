{
 "cells": [
  {
   "cell_type": "code",
   "execution_count": 1,
   "metadata": {
    "_cell_guid": "b1076dfc-b9ad-4769-8c92-a6c4dae69d19",
    "_uuid": "8f2839f25d086af736a60e9eeb907d3b93b6e0e5",
    "execution": {
     "iopub.execute_input": "2025-04-25T02:40:07.571150Z",
     "iopub.status.busy": "2025-04-25T02:40:07.570909Z",
     "iopub.status.idle": "2025-04-25T02:40:08.901401Z",
     "shell.execute_reply": "2025-04-25T02:40:08.900782Z",
     "shell.execute_reply.started": "2025-04-25T02:40:07.571121Z"
    },
    "trusted": true
   },
   "outputs": [],
   "source": [
    "# This Python 3 environment comes with many helpful analytics libraries installed\n",
    "# It is defined by the kaggle/python Docker image: https://github.com/kaggle/docker-python\n",
    "# For example, here's several helpful packages to load\n",
    "\n",
    "import numpy as np # linear algebra\n",
    "import pandas as pd # data processing, CSV file I/O (e.g. pd.read_csv)\n",
    "\n",
    "# Input data files are available in the read-only \"../input/\" directory\n",
    "# For example, running this (by clicking run or pressing Shift+Enter) will list all files under the input directory\n",
    "\n",
    "import os\n",
    "for dirname, _, filenames in os.walk('/kaggle/input'):\n",
    "    for filename in filenames:\n",
    "        print(os.path.join(dirname, filename))\n",
    "\n",
    "# You can write up to 20GB to the current directory (/kaggle/working/) that gets preserved as output when you create a version using \"Save & Run All\" \n",
    "# You can also write temporary files to /kaggle/temp/, but they won't be saved outside of the current session"
   ]
  },
  {
   "cell_type": "code",
   "execution_count": 1,
   "metadata": {
    "execution": {
     "iopub.execute_input": "2025-04-25T03:33:24.439416Z",
     "iopub.status.busy": "2025-04-25T03:33:24.438726Z",
     "iopub.status.idle": "2025-04-25T03:34:12.471334Z",
     "shell.execute_reply": "2025-04-25T03:34:12.470552Z",
     "shell.execute_reply.started": "2025-04-25T03:33:24.439391Z"
    },
    "trusted": true
   },
   "outputs": [
    {
     "name": "stderr",
     "output_type": "stream",
     "text": [
      "2025-04-25 03:33:56.152099: E external/local_xla/xla/stream_executor/cuda/cuda_fft.cc:477] Unable to register cuFFT factory: Attempting to register factory for plugin cuFFT when one has already been registered\n",
      "WARNING: All log messages before absl::InitializeLog() is called are written to STDERR\n",
      "E0000 00:00:1745552036.596258      31 cuda_dnn.cc:8310] Unable to register cuDNN factory: Attempting to register factory for plugin cuDNN when one has already been registered\n",
      "E0000 00:00:1745552036.717714      31 cuda_blas.cc:1418] Unable to register cuBLAS factory: Attempting to register factory for plugin cuBLAS when one has already been registered\n"
     ]
    }
   ],
   "source": [
    "from datasets import load_dataset\n",
    "import torch\n",
    "from transformers import ViTModel, BertModel, BertTokenizer\n",
    "from torch.utils.data import Dataset, DataLoader\n",
    "from torch.optim import AdamW\n",
    "from torch import nn\n",
    "from torch.cuda.amp import GradScaler, autocast\n",
    "from torch.optim.lr_scheduler import ReduceLROnPlateau\n",
    "from tqdm import tqdm\n",
    "from datasets import load_dataset\n",
    "from PIL import Image\n",
    "import io\n",
    "import json\n",
    "import os\n",
    "from torchvision import transforms\n",
    "from huggingface_hub import HfApi, login\n"
   ]
  },
  {
   "cell_type": "code",
   "execution_count": 2,
   "metadata": {
    "execution": {
     "iopub.execute_input": "2025-04-25T03:34:23.896115Z",
     "iopub.status.busy": "2025-04-25T03:34:23.895025Z",
     "iopub.status.idle": "2025-04-25T03:34:27.383160Z",
     "shell.execute_reply": "2025-04-25T03:34:27.382626Z",
     "shell.execute_reply.started": "2025-04-25T03:34:23.896086Z"
    },
    "trusted": true
   },
   "outputs": [
    {
     "data": {
      "application/vnd.jupyter.widget-view+json": {
       "model_id": "4ec1b1f334ff41e5a246871979878a95",
       "version_major": 2,
       "version_minor": 0
      },
      "text/plain": [
       "README.md:   0%|          | 0.00/670 [00:00<?, ?B/s]"
      ]
     },
     "metadata": {},
     "output_type": "display_data"
    },
    {
     "data": {
      "application/vnd.jupyter.widget-view+json": {
       "model_id": "c2444da2021c4782a05794e26ab5e66b",
       "version_major": 2,
       "version_minor": 0
      },
      "text/plain": [
       "train-00000-of-00001.parquet:   0%|          | 0.00/42.9M [00:00<?, ?B/s]"
      ]
     },
     "metadata": {},
     "output_type": "display_data"
    },
    {
     "data": {
      "application/vnd.jupyter.widget-view+json": {
       "model_id": "7e8eb90a9f594a8dacd7e1d7f9cadbf1",
       "version_major": 2,
       "version_minor": 0
      },
      "text/plain": [
       "validation-00000-of-00001.parquet:   0%|          | 0.00/13.8M [00:00<?, ?B/s]"
      ]
     },
     "metadata": {},
     "output_type": "display_data"
    },
    {
     "data": {
      "application/vnd.jupyter.widget-view+json": {
       "model_id": "cd5f075b5bd14dafae7e74d04e9befd0",
       "version_major": 2,
       "version_minor": 0
      },
      "text/plain": [
       "test-00000-of-00001.parquet:   0%|          | 0.00/14.3M [00:00<?, ?B/s]"
      ]
     },
     "metadata": {},
     "output_type": "display_data"
    },
    {
     "data": {
      "application/vnd.jupyter.widget-view+json": {
       "model_id": "2b15f83cf59246dd980847ffcc153b0f",
       "version_major": 2,
       "version_minor": 0
      },
      "text/plain": [
       "Generating train split:   0%|          | 0/15468 [00:00<?, ? examples/s]"
      ]
     },
     "metadata": {},
     "output_type": "display_data"
    },
    {
     "data": {
      "application/vnd.jupyter.widget-view+json": {
       "model_id": "8117ac0c3ae74675804312ba0b574086",
       "version_major": 2,
       "version_minor": 0
      },
      "text/plain": [
       "Generating validation split:   0%|          | 0/4824 [00:00<?, ? examples/s]"
      ]
     },
     "metadata": {},
     "output_type": "display_data"
    },
    {
     "data": {
      "application/vnd.jupyter.widget-view+json": {
       "model_id": "f35c30aa85bc4d399850431f57e917b9",
       "version_major": 2,
       "version_minor": 0
      },
      "text/plain": [
       "Generating test split:   0%|          | 0/5154 [00:00<?, ? examples/s]"
      ]
     },
     "metadata": {},
     "output_type": "display_data"
    }
   ],
   "source": [
    "ds = load_dataset('khoadole/cars_8k_balance_dataset_full_augmented_v2')"
   ]
  },
  {
   "cell_type": "code",
   "execution_count": 3,
   "metadata": {
    "execution": {
     "iopub.execute_input": "2025-04-25T03:34:31.435359Z",
     "iopub.status.busy": "2025-04-25T03:34:31.434694Z",
     "iopub.status.idle": "2025-04-25T03:34:31.439808Z",
     "shell.execute_reply": "2025-04-25T03:34:31.438900Z",
     "shell.execute_reply.started": "2025-04-25T03:34:31.435332Z"
    },
    "trusted": true
   },
   "outputs": [],
   "source": [
    "color_list = ['blue', 'white', 'black', 'gray', 'silver']\n",
    "brand_list = ['bentley', 'audi', 'bmw', 'acura']\n",
    "\n",
    "def get_answer_type(answer):\n",
    "    if answer in color_list:\n",
    "        return 'color'\n",
    "    elif answer in brand_list:\n",
    "        return 'brand'\n",
    "    else:\n",
    "        return 'car_name'"
   ]
  },
  {
   "cell_type": "code",
   "execution_count": 4,
   "metadata": {
    "execution": {
     "iopub.execute_input": "2025-04-25T03:34:34.857750Z",
     "iopub.status.busy": "2025-04-25T03:34:34.857137Z",
     "iopub.status.idle": "2025-04-25T03:34:34.864488Z",
     "shell.execute_reply": "2025-04-25T03:34:34.863835Z",
     "shell.execute_reply.started": "2025-04-25T03:34:34.857726Z"
    },
    "trusted": true
   },
   "outputs": [],
   "source": [
    "class VQADataset(Dataset):\n",
    "    def __init__(self, dataset, tokenizer, answer_to_idx):\n",
    "        self.dataset = dataset\n",
    "        self.tokenizer = tokenizer\n",
    "        self.answer_to_idx = answer_to_idx\n",
    "        self.transform = transforms.Compose([\n",
    "            transforms.Resize((224, 224)),\n",
    "            transforms.ToTensor(),\n",
    "            transforms.Normalize(mean=[0.485, 0.456, 0.406], std=[0.229, 0.224, 0.225]),\n",
    "        ])\n",
    "        # Định nghĩa mapping cho answer_type\n",
    "        self.answer_type_map = {'color': 0, 'brand': 1, 'car_name': 2}\n",
    "\n",
    "    def __len__(self):\n",
    "        return len(self.dataset)\n",
    "\n",
    "    def __getitem__(self, idx):\n",
    "        sample = self.dataset[idx]\n",
    "        image_bytes = sample['image']['bytes']\n",
    "        image = Image.open(io.BytesIO(image_bytes)).convert('RGB')\n",
    "        image_tensor = self.transform(image)\n",
    "        question = sample['question']\n",
    "        tokenized = self.tokenizer(question, padding='max_length', truncation=True, max_length=32, return_tensors='pt')\n",
    "        input_ids = tokenized['input_ids'].squeeze(0)\n",
    "        attention_mask = tokenized['attention_mask'].squeeze(0)\n",
    "        answer = sample['answer']\n",
    "        answer_idx = self.answer_to_idx.get(answer, -1)\n",
    "        answer_type = torch.tensor(self.answer_type_map[get_answer_type(answer)], dtype=torch.long)  # Chuyển thành tensor\n",
    "        return image_tensor, input_ids, attention_mask, answer_idx, answer_type"
   ]
  },
  {
   "cell_type": "code",
   "execution_count": 5,
   "metadata": {
    "execution": {
     "iopub.execute_input": "2025-04-25T03:34:37.657452Z",
     "iopub.status.busy": "2025-04-25T03:34:37.656787Z",
     "iopub.status.idle": "2025-04-25T03:34:37.663482Z",
     "shell.execute_reply": "2025-04-25T03:34:37.662666Z",
     "shell.execute_reply.started": "2025-04-25T03:34:37.657426Z"
    },
    "trusted": true
   },
   "outputs": [],
   "source": [
    "class VQAModel(nn.Module):\n",
    "    def __init__(self, num_answers):\n",
    "        super(VQAModel, self).__init__()\n",
    "        self.vit = ViTModel.from_pretrained('google/vit-base-patch16-224')\n",
    "        self.bert = BertModel.from_pretrained('bert-base-uncased')\n",
    "        self.classifier = nn.Sequential(\n",
    "            nn.Dropout(0.5),\n",
    "            # nn.Linear(768 * 3, 2048),\n",
    "            # nn.Linear(2048, 1024),\n",
    "            # nn.GELU(),\n",
    "            # nn.Linear(1024, 512),\n",
    "            # nn.GELU(),\n",
    "            nn.Linear(768, 512),\n",
    "            nn.GELU(),\n",
    "            nn.Linear(512, num_answers)\n",
    "        )\n",
    "        # for param in self.vit.encoder.layer[:6].parameters():\n",
    "        #     param.requires_grad = False\n",
    "        for param in self.bert.encoder.layer[:3].parameters():\n",
    "            param.requires_grad = False\n",
    "\n",
    "    def forward(self, image, input_ids, attention_mask):\n",
    "        image_features = self.vit(image).last_hidden_state[:, 0, :]\n",
    "        text_features = self.bert(input_ids, attention_mask=attention_mask).last_hidden_state[:, 0, :]\n",
    "        combined = image_features * text_features\n",
    "        output = self.classifier(combined)\n",
    "        return output"
   ]
  },
  {
   "cell_type": "code",
   "execution_count": 6,
   "metadata": {
    "execution": {
     "iopub.execute_input": "2025-04-25T03:34:38.926432Z",
     "iopub.status.busy": "2025-04-25T03:34:38.926122Z",
     "iopub.status.idle": "2025-04-25T03:34:45.225647Z",
     "shell.execute_reply": "2025-04-25T03:34:45.224907Z",
     "shell.execute_reply.started": "2025-04-25T03:34:38.926409Z"
    },
    "trusted": true
   },
   "outputs": [
    {
     "data": {
      "application/vnd.jupyter.widget-view+json": {
       "model_id": "7c98b99072a34cf7a6a32a83d18a895e",
       "version_major": 2,
       "version_minor": 0
      },
      "text/plain": [
       "tokenizer_config.json:   0%|          | 0.00/48.0 [00:00<?, ?B/s]"
      ]
     },
     "metadata": {},
     "output_type": "display_data"
    },
    {
     "data": {
      "application/vnd.jupyter.widget-view+json": {
       "model_id": "e38b337b6e894612ad40eefd29fada6d",
       "version_major": 2,
       "version_minor": 0
      },
      "text/plain": [
       "vocab.txt:   0%|          | 0.00/232k [00:00<?, ?B/s]"
      ]
     },
     "metadata": {},
     "output_type": "display_data"
    },
    {
     "data": {
      "application/vnd.jupyter.widget-view+json": {
       "model_id": "4e94bb78afea45e7a11d1c1b0fffe2ad",
       "version_major": 2,
       "version_minor": 0
      },
      "text/plain": [
       "tokenizer.json:   0%|          | 0.00/466k [00:00<?, ?B/s]"
      ]
     },
     "metadata": {},
     "output_type": "display_data"
    },
    {
     "data": {
      "application/vnd.jupyter.widget-view+json": {
       "model_id": "bba45c8c80454b8ba75ab34fda378889",
       "version_major": 2,
       "version_minor": 0
      },
      "text/plain": [
       "config.json:   0%|          | 0.00/570 [00:00<?, ?B/s]"
      ]
     },
     "metadata": {},
     "output_type": "display_data"
    },
    {
     "data": {
      "application/vnd.jupyter.widget-view+json": {
       "model_id": "bb12fe48ec484667acf742e202686ec7",
       "version_major": 2,
       "version_minor": 0
      },
      "text/plain": [
       "config.json:   0%|          | 0.00/69.7k [00:00<?, ?B/s]"
      ]
     },
     "metadata": {},
     "output_type": "display_data"
    },
    {
     "name": "stderr",
     "output_type": "stream",
     "text": [
      "Xet Storage is enabled for this repo, but the 'hf_xet' package is not installed. Falling back to regular HTTP download. For better performance, install the package with: `pip install huggingface_hub[hf_xet]` or `pip install hf_xet`\n"
     ]
    },
    {
     "data": {
      "application/vnd.jupyter.widget-view+json": {
       "model_id": "6d6ed36990d5417091fa94fe1f3f1664",
       "version_major": 2,
       "version_minor": 0
      },
      "text/plain": [
       "model.safetensors:   0%|          | 0.00/346M [00:00<?, ?B/s]"
      ]
     },
     "metadata": {},
     "output_type": "display_data"
    },
    {
     "name": "stderr",
     "output_type": "stream",
     "text": [
      "Some weights of ViTModel were not initialized from the model checkpoint at google/vit-base-patch16-224 and are newly initialized: ['pooler.dense.bias', 'pooler.dense.weight']\n",
      "You should probably TRAIN this model on a down-stream task to be able to use it for predictions and inference.\n",
      "Xet Storage is enabled for this repo, but the 'hf_xet' package is not installed. Falling back to regular HTTP download. For better performance, install the package with: `pip install huggingface_hub[hf_xet]` or `pip install hf_xet`\n"
     ]
    },
    {
     "data": {
      "application/vnd.jupyter.widget-view+json": {
       "model_id": "77187884debc4086b946637d47efcb0a",
       "version_major": 2,
       "version_minor": 0
      },
      "text/plain": [
       "model.safetensors:   0%|          | 0.00/440M [00:00<?, ?B/s]"
      ]
     },
     "metadata": {},
     "output_type": "display_data"
    },
    {
     "name": "stderr",
     "output_type": "stream",
     "text": [
      "/tmp/ipykernel_31/1126064032.py:17: FutureWarning: `torch.cuda.amp.GradScaler(args...)` is deprecated. Please use `torch.amp.GradScaler('cuda', args...)` instead.\n",
      "  scaler = GradScaler()\n"
     ]
    }
   ],
   "source": [
    "all_train_answers = list(set(sample['answer'] for sample in ds['train']))\n",
    "answer_to_idx = {answer: idx for idx, answer in enumerate(all_train_answers)}\n",
    "\n",
    "tokenizer = BertTokenizer.from_pretrained('bert-base-uncased')\n",
    "train_dataset = VQADataset(ds['train'], tokenizer, answer_to_idx)\n",
    "val_dataset = VQADataset(ds['validation'], tokenizer, answer_to_idx)\n",
    "test_dataset = VQADataset(ds['test'], tokenizer, answer_to_idx)\n",
    "\n",
    "train_loader = DataLoader(train_dataset, batch_size=32, shuffle=True, num_workers=4, pin_memory=True)\n",
    "val_loader = DataLoader(val_dataset, batch_size=32, shuffle=False, num_workers=4, pin_memory=True)\n",
    "test_loader = DataLoader(test_dataset, batch_size=32, shuffle=False, num_workers=4, pin_memory=True)\n",
    "\n",
    "# Khởi tạo mô hình và tối ưu\n",
    "device = 'cuda' if torch.cuda.is_available() else 'cpu'\n",
    "model = VQAModel(num_answers=len(answer_to_idx)).to(device)\n",
    "optimizer = AdamW(model.parameters(), lr=5e-5, weight_decay=0.01)\n",
    "scaler = GradScaler()\n",
    "scheduler = ReduceLROnPlateau(optimizer, mode='max', factor=0.1, patience=3, verbose=True)\n",
    "loss_fn = nn.CrossEntropyLoss(label_smoothing=0.1)"
   ]
  },
  {
   "cell_type": "code",
   "execution_count": 7,
   "metadata": {
    "execution": {
     "iopub.execute_input": "2025-04-25T03:34:48.994410Z",
     "iopub.status.busy": "2025-04-25T03:34:48.993741Z",
     "iopub.status.idle": "2025-04-25T04:44:43.921650Z",
     "shell.execute_reply": "2025-04-25T04:44:43.920676Z",
     "shell.execute_reply.started": "2025-04-25T03:34:48.994378Z"
    },
    "trusted": true
   },
   "outputs": [
    {
     "name": "stderr",
     "output_type": "stream",
     "text": [
      "Epoch 1/30 - Training:   0%|          | 0/484 [00:00<?, ?it/s]/tmp/ipykernel_31/3882584153.py:32: FutureWarning: `torch.cuda.amp.autocast(args...)` is deprecated. Please use `torch.amp.autocast('cuda', args...)` instead.\n",
      "  with autocast():\n",
      "Epoch 1/30 - Training: 100%|██████████| 484/484 [03:17<00:00,  2.45it/s]\n"
     ]
    },
    {
     "name": "stdout",
     "output_type": "stream",
     "text": [
      "Epoch 1, Train Loss: 1.8700\n",
      "Color Loss: 1.4707, Brand Loss: 1.5703, Car Name Loss: 2.5722\n"
     ]
    },
    {
     "name": "stderr",
     "output_type": "stream",
     "text": [
      "Epoch 1/30 - Validation:   0%|          | 0/151 [00:00<?, ?it/s]/tmp/ipykernel_31/3882584153.py:76: FutureWarning: `torch.cuda.amp.autocast(args...)` is deprecated. Please use `torch.amp.autocast('cuda', args...)` instead.\n",
      "  with autocast():\n",
      "Epoch 1/30 - Validation: 100%|██████████| 151/151 [00:19<00:00,  7.88it/s]\n"
     ]
    },
    {
     "name": "stdout",
     "output_type": "stream",
     "text": [
      "Epoch 1, Validation Accuracy: 0.7189\n"
     ]
    },
    {
     "name": "stderr",
     "output_type": "stream",
     "text": [
      "Epoch 2/30 - Training: 100%|██████████| 484/484 [03:22<00:00,  2.39it/s]\n"
     ]
    },
    {
     "name": "stdout",
     "output_type": "stream",
     "text": [
      "Epoch 2, Train Loss: 1.1458\n",
      "Color Loss: 1.0592, Brand Loss: 0.7582, Car Name Loss: 1.6207\n"
     ]
    },
    {
     "name": "stderr",
     "output_type": "stream",
     "text": [
      "Epoch 2/30 - Validation: 100%|██████████| 151/151 [00:19<00:00,  7.82it/s]\n"
     ]
    },
    {
     "name": "stdout",
     "output_type": "stream",
     "text": [
      "Epoch 2, Validation Accuracy: 0.7722\n"
     ]
    },
    {
     "name": "stderr",
     "output_type": "stream",
     "text": [
      "Epoch 3/30 - Training: 100%|██████████| 484/484 [03:21<00:00,  2.41it/s]\n"
     ]
    },
    {
     "name": "stdout",
     "output_type": "stream",
     "text": [
      "Epoch 3, Train Loss: 0.9688\n",
      "Color Loss: 0.8645, Brand Loss: 0.7000, Car Name Loss: 1.3405\n"
     ]
    },
    {
     "name": "stderr",
     "output_type": "stream",
     "text": [
      "Epoch 3/30 - Validation: 100%|██████████| 151/151 [00:19<00:00,  7.87it/s]\n"
     ]
    },
    {
     "name": "stdout",
     "output_type": "stream",
     "text": [
      "Epoch 3, Validation Accuracy: 0.7975\n"
     ]
    },
    {
     "name": "stderr",
     "output_type": "stream",
     "text": [
      "Epoch 4/30 - Training: 100%|██████████| 484/484 [03:21<00:00,  2.40it/s]\n"
     ]
    },
    {
     "name": "stdout",
     "output_type": "stream",
     "text": [
      "Epoch 4, Train Loss: 0.8494\n",
      "Color Loss: 0.7477, Brand Loss: 0.6748, Car Name Loss: 1.1258\n"
     ]
    },
    {
     "name": "stderr",
     "output_type": "stream",
     "text": [
      "Epoch 4/30 - Validation: 100%|██████████| 151/151 [00:19<00:00,  7.85it/s]\n"
     ]
    },
    {
     "name": "stdout",
     "output_type": "stream",
     "text": [
      "Epoch 4, Validation Accuracy: 0.8147\n"
     ]
    },
    {
     "name": "stderr",
     "output_type": "stream",
     "text": [
      "Epoch 5/30 - Training: 100%|██████████| 484/484 [03:20<00:00,  2.41it/s]\n"
     ]
    },
    {
     "name": "stdout",
     "output_type": "stream",
     "text": [
      "Epoch 5, Train Loss: 0.7669\n",
      "Color Loss: 0.6892, Brand Loss: 0.6657, Car Name Loss: 0.9457\n"
     ]
    },
    {
     "name": "stderr",
     "output_type": "stream",
     "text": [
      "Epoch 5/30 - Validation: 100%|██████████| 151/151 [00:19<00:00,  7.87it/s]\n"
     ]
    },
    {
     "name": "stdout",
     "output_type": "stream",
     "text": [
      "Epoch 5, Validation Accuracy: 0.8356\n"
     ]
    },
    {
     "name": "stderr",
     "output_type": "stream",
     "text": [
      "Epoch 6/30 - Training: 100%|██████████| 484/484 [03:20<00:00,  2.41it/s]\n"
     ]
    },
    {
     "name": "stdout",
     "output_type": "stream",
     "text": [
      "Epoch 6, Train Loss: 0.7171\n",
      "Color Loss: 0.6749, Brand Loss: 0.6625, Car Name Loss: 0.8139\n"
     ]
    },
    {
     "name": "stderr",
     "output_type": "stream",
     "text": [
      "Epoch 6/30 - Validation: 100%|██████████| 151/151 [00:19<00:00,  7.92it/s]\n"
     ]
    },
    {
     "name": "stdout",
     "output_type": "stream",
     "text": [
      "Epoch 6, Validation Accuracy: 0.8427\n"
     ]
    },
    {
     "name": "stderr",
     "output_type": "stream",
     "text": [
      "Epoch 7/30 - Training: 100%|██████████| 484/484 [03:21<00:00,  2.40it/s]\n"
     ]
    },
    {
     "name": "stdout",
     "output_type": "stream",
     "text": [
      "Epoch 7, Train Loss: 0.6888\n",
      "Color Loss: 0.6664, Brand Loss: 0.6540, Car Name Loss: 0.7463\n"
     ]
    },
    {
     "name": "stderr",
     "output_type": "stream",
     "text": [
      "Epoch 7/30 - Validation: 100%|██████████| 151/151 [00:18<00:00,  7.95it/s]\n"
     ]
    },
    {
     "name": "stdout",
     "output_type": "stream",
     "text": [
      "Epoch 7, Validation Accuracy: 0.8541\n"
     ]
    },
    {
     "name": "stderr",
     "output_type": "stream",
     "text": [
      "Epoch 8/30 - Training: 100%|██████████| 484/484 [03:21<00:00,  2.40it/s]\n"
     ]
    },
    {
     "name": "stdout",
     "output_type": "stream",
     "text": [
      "Epoch 8, Train Loss: 0.6754\n",
      "Color Loss: 0.6614, Brand Loss: 0.6510, Car Name Loss: 0.7136\n"
     ]
    },
    {
     "name": "stderr",
     "output_type": "stream",
     "text": [
      "Epoch 8/30 - Validation: 100%|██████████| 151/151 [00:19<00:00,  7.90it/s]\n"
     ]
    },
    {
     "name": "stdout",
     "output_type": "stream",
     "text": [
      "Epoch 8, Validation Accuracy: 0.8557\n"
     ]
    },
    {
     "name": "stderr",
     "output_type": "stream",
     "text": [
      "Epoch 9/30 - Training: 100%|██████████| 484/484 [03:21<00:00,  2.41it/s]\n"
     ]
    },
    {
     "name": "stdout",
     "output_type": "stream",
     "text": [
      "Epoch 9, Train Loss: 0.6629\n",
      "Color Loss: 0.6547, Brand Loss: 0.6473, Car Name Loss: 0.6868\n"
     ]
    },
    {
     "name": "stderr",
     "output_type": "stream",
     "text": [
      "Epoch 9/30 - Validation: 100%|██████████| 151/151 [00:19<00:00,  7.91it/s]\n"
     ]
    },
    {
     "name": "stdout",
     "output_type": "stream",
     "text": [
      "Epoch 9, Validation Accuracy: 0.8617\n"
     ]
    },
    {
     "name": "stderr",
     "output_type": "stream",
     "text": [
      "Epoch 10/30 - Training: 100%|██████████| 484/484 [03:20<00:00,  2.41it/s]\n"
     ]
    },
    {
     "name": "stdout",
     "output_type": "stream",
     "text": [
      "Epoch 10, Train Loss: 0.6578\n",
      "Color Loss: 0.6503, Brand Loss: 0.6438, Car Name Loss: 0.6793\n"
     ]
    },
    {
     "name": "stderr",
     "output_type": "stream",
     "text": [
      "Epoch 10/30 - Validation: 100%|██████████| 151/151 [00:18<00:00,  7.97it/s]\n"
     ]
    },
    {
     "name": "stdout",
     "output_type": "stream",
     "text": [
      "Epoch 10, Validation Accuracy: 0.8657\n"
     ]
    },
    {
     "name": "stderr",
     "output_type": "stream",
     "text": [
      "Epoch 11/30 - Training: 100%|██████████| 484/484 [03:20<00:00,  2.41it/s]\n"
     ]
    },
    {
     "name": "stdout",
     "output_type": "stream",
     "text": [
      "Epoch 11, Train Loss: 0.6886\n",
      "Color Loss: 0.6976, Brand Loss: 0.6529, Car Name Loss: 0.7146\n"
     ]
    },
    {
     "name": "stderr",
     "output_type": "stream",
     "text": [
      "Epoch 11/30 - Validation: 100%|██████████| 151/151 [00:19<00:00,  7.87it/s]\n"
     ]
    },
    {
     "name": "stdout",
     "output_type": "stream",
     "text": [
      "Epoch 11, Validation Accuracy: 0.8414\n"
     ]
    },
    {
     "name": "stderr",
     "output_type": "stream",
     "text": [
      "Epoch 12/30 - Training: 100%|██████████| 484/484 [03:20<00:00,  2.42it/s]\n"
     ]
    },
    {
     "name": "stdout",
     "output_type": "stream",
     "text": [
      "Epoch 12, Train Loss: 0.6594\n",
      "Color Loss: 0.6544, Brand Loss: 0.6442, Car Name Loss: 0.6798\n"
     ]
    },
    {
     "name": "stderr",
     "output_type": "stream",
     "text": [
      "Epoch 12/30 - Validation: 100%|██████████| 151/151 [00:19<00:00,  7.87it/s]\n"
     ]
    },
    {
     "name": "stdout",
     "output_type": "stream",
     "text": [
      "Epoch 12, Validation Accuracy: 0.8671\n"
     ]
    },
    {
     "name": "stderr",
     "output_type": "stream",
     "text": [
      "Epoch 13/30 - Training: 100%|██████████| 484/484 [03:19<00:00,  2.42it/s]\n"
     ]
    },
    {
     "name": "stdout",
     "output_type": "stream",
     "text": [
      "Epoch 13, Train Loss: 0.6472\n",
      "Color Loss: 0.6443, Brand Loss: 0.6386, Car Name Loss: 0.6585\n"
     ]
    },
    {
     "name": "stderr",
     "output_type": "stream",
     "text": [
      "Epoch 13/30 - Validation: 100%|██████████| 151/151 [00:19<00:00,  7.89it/s]\n"
     ]
    },
    {
     "name": "stdout",
     "output_type": "stream",
     "text": [
      "Epoch 13, Validation Accuracy: 0.8686\n"
     ]
    },
    {
     "name": "stderr",
     "output_type": "stream",
     "text": [
      "Epoch 14/30 - Training: 100%|██████████| 484/484 [03:20<00:00,  2.42it/s]\n"
     ]
    },
    {
     "name": "stdout",
     "output_type": "stream",
     "text": [
      "Epoch 14, Train Loss: 0.6471\n",
      "Color Loss: 0.6413, Brand Loss: 0.6369, Car Name Loss: 0.6631\n"
     ]
    },
    {
     "name": "stderr",
     "output_type": "stream",
     "text": [
      "Epoch 14/30 - Validation: 100%|██████████| 151/151 [00:19<00:00,  7.86it/s]\n"
     ]
    },
    {
     "name": "stdout",
     "output_type": "stream",
     "text": [
      "Epoch 14, Validation Accuracy: 0.8698\n"
     ]
    },
    {
     "name": "stderr",
     "output_type": "stream",
     "text": [
      "Epoch 15/30 - Training: 100%|██████████| 484/484 [03:19<00:00,  2.43it/s]\n"
     ]
    },
    {
     "name": "stdout",
     "output_type": "stream",
     "text": [
      "Epoch 15, Train Loss: 0.6418\n",
      "Color Loss: 0.6396, Brand Loss: 0.6358, Car Name Loss: 0.6501\n"
     ]
    },
    {
     "name": "stderr",
     "output_type": "stream",
     "text": [
      "Epoch 15/30 - Validation: 100%|██████████| 151/151 [00:19<00:00,  7.91it/s]\n"
     ]
    },
    {
     "name": "stdout",
     "output_type": "stream",
     "text": [
      "Epoch 15, Validation Accuracy: 0.8690\n"
     ]
    },
    {
     "name": "stderr",
     "output_type": "stream",
     "text": [
      "Epoch 16/30 - Training: 100%|██████████| 484/484 [03:19<00:00,  2.42it/s]\n"
     ]
    },
    {
     "name": "stdout",
     "output_type": "stream",
     "text": [
      "Epoch 16, Train Loss: 0.6410\n",
      "Color Loss: 0.6383, Brand Loss: 0.6350, Car Name Loss: 0.6497\n"
     ]
    },
    {
     "name": "stderr",
     "output_type": "stream",
     "text": [
      "Epoch 16/30 - Validation: 100%|██████████| 151/151 [00:19<00:00,  7.89it/s]\n"
     ]
    },
    {
     "name": "stdout",
     "output_type": "stream",
     "text": [
      "Epoch 16, Validation Accuracy: 0.8663\n"
     ]
    },
    {
     "name": "stderr",
     "output_type": "stream",
     "text": [
      "Epoch 17/30 - Training: 100%|██████████| 484/484 [03:19<00:00,  2.43it/s]\n"
     ]
    },
    {
     "name": "stdout",
     "output_type": "stream",
     "text": [
      "Epoch 17, Train Loss: 0.6576\n",
      "Color Loss: 0.6610, Brand Loss: 0.6419, Car Name Loss: 0.6701\n"
     ]
    },
    {
     "name": "stderr",
     "output_type": "stream",
     "text": [
      "Epoch 17/30 - Validation: 100%|██████████| 151/151 [00:19<00:00,  7.91it/s]\n"
     ]
    },
    {
     "name": "stdout",
     "output_type": "stream",
     "text": [
      "Epoch 17, Validation Accuracy: 0.8085\n"
     ]
    },
    {
     "name": "stderr",
     "output_type": "stream",
     "text": [
      "Epoch 18/30 - Training: 100%|██████████| 484/484 [03:20<00:00,  2.42it/s]\n"
     ]
    },
    {
     "name": "stdout",
     "output_type": "stream",
     "text": [
      "Epoch 18, Train Loss: 0.6806\n",
      "Color Loss: 0.6812, Brand Loss: 0.6461, Car Name Loss: 0.7146\n"
     ]
    },
    {
     "name": "stderr",
     "output_type": "stream",
     "text": [
      "Epoch 18/30 - Validation: 100%|██████████| 151/151 [00:19<00:00,  7.86it/s]\n"
     ]
    },
    {
     "name": "stdout",
     "output_type": "stream",
     "text": [
      "Epoch 18, Validation Accuracy: 0.8468\n"
     ]
    },
    {
     "name": "stderr",
     "output_type": "stream",
     "text": [
      "Epoch 19/30 - Training: 100%|██████████| 484/484 [03:19<00:00,  2.42it/s]\n"
     ]
    },
    {
     "name": "stdout",
     "output_type": "stream",
     "text": [
      "Epoch 19, Train Loss: 0.6464\n",
      "Color Loss: 0.6449, Brand Loss: 0.6374, Car Name Loss: 0.6568\n"
     ]
    },
    {
     "name": "stderr",
     "output_type": "stream",
     "text": [
      "Epoch 19/30 - Validation: 100%|██████████| 151/151 [00:19<00:00,  7.87it/s]"
     ]
    },
    {
     "name": "stdout",
     "output_type": "stream",
     "text": [
      "Epoch 19, Validation Accuracy: 0.8613\n",
      "Early stopping triggered!\n"
     ]
    },
    {
     "name": "stderr",
     "output_type": "stream",
     "text": [
      "\n"
     ]
    }
   ],
   "source": [
    "# Training loop\n",
    "num_epochs = 30\n",
    "best_val_acc = 0\n",
    "patience = 5\n",
    "patience_counter = 0\n",
    "color_loss_weight = 2.0\n",
    "answer_type_map_reverse = {0: 'color', 1: 'brand', 2: 'car_name'}  # Để map ngược lại từ số sang string\n",
    "\n",
    "for epoch in range(num_epochs):\n",
    "    model.train()\n",
    "    total_loss = 0\n",
    "    total_color_loss = 0\n",
    "    total_brand_loss = 0\n",
    "    total_car_name_loss = 0\n",
    "    color_count = 0\n",
    "    brand_count = 0\n",
    "    car_name_count = 0\n",
    "\n",
    "    for batch in tqdm(train_loader, desc=f\"Epoch {epoch+1}/{num_epochs} - Training\"):\n",
    "        image, input_ids, attention_mask, answer_idx, answer_type = [x.to(device) for x in batch]\n",
    "        valid_mask = answer_idx != -1\n",
    "        if not valid_mask.any():\n",
    "            continue\n",
    "        # Lọc các tensor bằng valid_mask\n",
    "        image = image[valid_mask]\n",
    "        input_ids = input_ids[valid_mask]\n",
    "        attention_mask = attention_mask[valid_mask]\n",
    "        answer_idx = answer_idx[valid_mask]\n",
    "        answer_type = answer_type[valid_mask]  # answer_type giờ là tensor\n",
    "\n",
    "        optimizer.zero_grad()\n",
    "        with autocast():\n",
    "            output = model(image, input_ids, attention_mask)\n",
    "            loss = loss_fn(output, answer_idx)\n",
    "            weighted_loss = torch.zeros_like(loss)\n",
    "            for i in range(len(answer_type)):\n",
    "                ans_type_str = answer_type_map_reverse[answer_type[i].item()]  # Map ngược lại thành string\n",
    "                if ans_type_str == 'color':\n",
    "                    weighted_loss += loss_fn(output[i].unsqueeze(0), answer_idx[i].unsqueeze(0)) * color_loss_weight\n",
    "                    total_color_loss += loss_fn(output[i].unsqueeze(0), answer_idx[i].unsqueeze(0)).item()\n",
    "                    color_count += 1\n",
    "                elif ans_type_str == 'brand':\n",
    "                    weighted_loss += loss_fn(output[i].unsqueeze(0), answer_idx[i].unsqueeze(0))\n",
    "                    total_brand_loss += loss_fn(output[i].unsqueeze(0), answer_idx[i].unsqueeze(0)).item()\n",
    "                    brand_count += 1\n",
    "                else:\n",
    "                    weighted_loss += loss_fn(output[i].unsqueeze(0), answer_idx[i].unsqueeze(0))\n",
    "                    total_car_name_loss += loss_fn(output[i].unsqueeze(0), answer_idx[i].unsqueeze(0)).item()\n",
    "                    car_name_count += 1\n",
    "        scaler.scale(weighted_loss).backward()\n",
    "        scaler.step(optimizer)\n",
    "        scaler.update()\n",
    "        total_loss += loss.item()\n",
    "\n",
    "    avg_train_loss = total_loss / len(train_loader)\n",
    "    avg_color_loss = total_color_loss / color_count if color_count > 0 else 0\n",
    "    avg_brand_loss = total_brand_loss / brand_count if brand_count > 0 else 0\n",
    "    avg_car_name_loss = total_car_name_loss / car_name_count if car_name_count > 0 else 0\n",
    "    print(f\"Epoch {epoch+1}, Train Loss: {avg_train_loss:.4f}\")\n",
    "    print(f\"Color Loss: {avg_color_loss:.4f}, Brand Loss: {avg_brand_loss:.4f}, Car Name Loss: {avg_car_name_loss:.4f}\")\n",
    "\n",
    "    # Validation\n",
    "    model.eval()\n",
    "    correct = 0\n",
    "    total = 0\n",
    "    with torch.no_grad():\n",
    "        for batch in tqdm(val_loader, desc=f\"Epoch {epoch+1}/{num_epochs} - Validation\"):\n",
    "            image, input_ids, attention_mask, answer_idx, _ = [x.to(device) for x in batch]\n",
    "            valid_mask = answer_idx != -1\n",
    "            if not valid_mask.any():\n",
    "                continue\n",
    "            image = image[valid_mask]\n",
    "            input_ids = input_ids[valid_mask]\n",
    "            attention_mask = attention_mask[valid_mask]\n",
    "            answer_idx = answer_idx[valid_mask]\n",
    "            with autocast():\n",
    "                output = model(image, input_ids, attention_mask)\n",
    "            pred = output.argmax(dim=1)\n",
    "            correct += (pred == answer_idx).sum().item()\n",
    "            total += answer_idx.size(0)\n",
    "    val_accuracy = correct / total if total > 0 else 0\n",
    "    print(f\"Epoch {epoch+1}, Validation Accuracy: {val_accuracy:.4f}\")\n",
    "\n",
    "    scheduler.step(val_accuracy)\n",
    "    if val_accuracy > best_val_acc:\n",
    "        best_val_acc = val_accuracy\n",
    "        patience_counter = 0\n",
    "        torch.save(model.state_dict(), 'best_vqa_model.pth')\n",
    "    else:\n",
    "        patience_counter += 1\n",
    "        if patience_counter >= patience:\n",
    "            print(\"Early stopping triggered!\")\n",
    "            break"
   ]
  },
  {
   "cell_type": "code",
   "execution_count": 8,
   "metadata": {
    "execution": {
     "iopub.execute_input": "2025-04-25T04:44:49.104087Z",
     "iopub.status.busy": "2025-04-25T04:44:49.103756Z",
     "iopub.status.idle": "2025-04-25T04:45:11.001885Z",
     "shell.execute_reply": "2025-04-25T04:45:11.000999Z",
     "shell.execute_reply.started": "2025-04-25T04:44:49.104058Z"
    },
    "trusted": true
   },
   "outputs": [
    {
     "name": "stderr",
     "output_type": "stream",
     "text": [
      "Test:   0%|          | 0/162 [00:00<?, ?it/s]/tmp/ipykernel_31/2637264605.py:39: FutureWarning: `torch.cuda.amp.autocast(args...)` is deprecated. Please use `torch.amp.autocast('cuda', args...)` instead.\n",
      "  with autocast():\n",
      "Test: 100%|██████████| 162/162 [00:21<00:00,  7.63it/s]"
     ]
    },
    {
     "name": "stdout",
     "output_type": "stream",
     "text": [
      "Test Total Accuracy: 0.8463\n",
      "Test Color Accuracy: 0.8370, Brand Accuracy: 0.9499, Car Name Accuracy: 0.7520\n",
      "Test Color Loss: 1.1648, Brand Loss: 0.7604, Car Name Loss: 1.3785\n",
      "\n",
      "Top 4 màu sai nhiều nhất:\n",
      "- silver: 0.2460 (24.60%), xuất hiện 248 lần\n",
      "  Nhầm lẫn với:\n",
      "    + gray: 18 lần\n",
      "    + black: 17 lần\n",
      "    + blue: 9 lần\n",
      "    + white: 17 lần\n",
      "- gray: 0.2327 (23.27%), xuất hiện 245 lần\n",
      "  Nhầm lẫn với:\n",
      "    + white: 8 lần\n",
      "    + black: 15 lần\n",
      "    + silver: 33 lần\n",
      "    + blue: 1 lần\n",
      "- white: 0.1371 (13.71%), xuất hiện 518 lần\n",
      "  Nhầm lẫn với:\n",
      "    + black: 35 lần\n",
      "    + gray: 18 lần\n",
      "    + silver: 17 lần\n",
      "    + blue: 1 lần\n",
      "- black: 0.1304 (13.04%), xuất hiện 368 lần\n",
      "  Nhầm lẫn với:\n",
      "    + white: 16 lần\n",
      "    + silver: 15 lần\n",
      "    + gray: 16 lần\n",
      "    + blue: 1 lần\n",
      "\n",
      "Top 4 hãng xe sai nhiều nhất:\n",
      "- audi: 0.0633 (6.33%), xuất hiện 442 lần\n",
      "  Nhầm lẫn với:\n",
      "    + acura: 8 lần\n",
      "    + bmw: 11 lần\n",
      "    + bentley: 9 lần\n",
      "- bmw: 0.0541 (5.41%), xuất hiện 425 lần\n",
      "  Nhầm lẫn với:\n",
      "    + audi: 10 lần\n",
      "    + acura: 9 lần\n",
      "    + bentley: 4 lần\n",
      "- acura: 0.0431 (4.31%), xuất hiện 371 lần\n",
      "  Nhầm lẫn với:\n",
      "    + audi: 8 lần\n",
      "    + bmw: 5 lần\n",
      "    + bentley: 3 lần\n",
      "- bentley: 0.0396 (3.96%), xuất hiện 480 lần\n",
      "  Nhầm lẫn với:\n",
      "    + audi: 15 lần\n",
      "    + acura: 3 lần\n",
      "    + bmw: 1 lần\n",
      "\n",
      "Top 4 tên xe sai nhiều nhất:\n",
      "- Bentley Mulsanne: 0.9500 (95.00%), xuất hiện 100 lần\n",
      "  Nhầm lẫn với:\n",
      "    + Bentley Continental: 12 lần\n",
      "    + Bentley Flying: 57 lần\n",
      "    + Bentley Bentayga: 24 lần\n",
      "    + Audi A4: 2 lần\n",
      "- BMW 330: 0.5300 (53.00%), xuất hiện 100 lần\n",
      "  Nhầm lẫn với:\n",
      "    + BMW X3: 1 lần\n",
      "    + BMW X5: 2 lần\n",
      "    + Audi A4: 1 lần\n",
      "    + Acura TLX: 3 lần\n",
      "    + Bentley Flying: 1 lần\n",
      "    + BMW X1: 45 lần\n",
      "- Acura ILX: 0.5161 (51.61%), xuất hiện 31 lần\n",
      "  Nhầm lẫn với:\n",
      "    + Acura RDX: 5 lần\n",
      "    + Acura TLX: 7 lần\n",
      "    + Acura MDX: 2 lần\n",
      "    + Bentley Continental: 2 lần\n",
      "- Audi A4: 0.4500 (45.00%), xuất hiện 100 lần\n",
      "  Nhầm lẫn với:\n",
      "    + Acura RDX: 1 lần\n",
      "    + Bentley Continental: 6 lần\n",
      "    + Acura TLX: 5 lần\n",
      "    + Audi Q5: 1 lần\n",
      "    + Audi Q7: 5 lần\n",
      "    + Bentley Flying: 1 lần\n",
      "    + BMW 330: 6 lần\n",
      "    + Audi Q3: 18 lần\n",
      "    + BMW X1: 1 lần\n",
      "    + Bentley Bentayga: 1 lần\n"
     ]
    },
    {
     "name": "stderr",
     "output_type": "stream",
     "text": [
      "\n"
     ]
    }
   ],
   "source": [
    "from collections import defaultdict\n",
    "# Test\n",
    "model.load_state_dict(torch.load('best_vqa_model.pth', weights_only=True))\n",
    "model.eval()\n",
    "correct_color = 0\n",
    "total_color = 0\n",
    "correct_brand = 0\n",
    "total_brand = 0\n",
    "correct_car_name = 0\n",
    "total_car_name = 0\n",
    "total_correct = 0\n",
    "total_samples = 0\n",
    "total_color_loss = 0\n",
    "total_brand_loss = 0\n",
    "total_car_name_loss = 0\n",
    "color_count = 0\n",
    "brand_count = 0\n",
    "car_name_count = 0\n",
    "answer_type_map_reverse = {0: 'color', 1: 'brand', 2: 'car_name'}\n",
    "idx_to_answer = {idx: answer for answer, idx in answer_to_idx.items()}  # Map ngược từ idx sang answer\n",
    "\n",
    "# Theo dõi số lần xuất hiện, đúng, và nhầm lẫn\n",
    "color_stats = defaultdict(lambda: {'correct': 0, 'total': 0, 'confusion': defaultdict(int)})\n",
    "brand_stats = defaultdict(lambda: {'correct': 0, 'total': 0, 'confusion': defaultdict(int)})\n",
    "car_name_stats = defaultdict(lambda: {'correct': 0, 'total': 0, 'confusion': defaultdict(int)})\n",
    "\n",
    "with torch.no_grad():\n",
    "    for batch in tqdm(test_loader, desc=\"Test\"):\n",
    "        image, input_ids, attention_mask, answer_idx, answer_type = [x.to(device) for x in batch]\n",
    "        valid_mask = (answer_idx != -1).to(device)\n",
    "        if not valid_mask.any():\n",
    "            continue\n",
    "        image = image[valid_mask]\n",
    "        input_ids = input_ids[valid_mask]\n",
    "        attention_mask = attention_mask[valid_mask]\n",
    "        answer_idx = answer_idx[valid_mask]\n",
    "        answer_type = answer_type[valid_mask]\n",
    "\n",
    "        with autocast():\n",
    "            output = model(image, input_ids, attention_mask)\n",
    "            loss = loss_fn(output, answer_idx)\n",
    "        pred = output.argmax(dim=1)\n",
    "        total_correct += (pred == answer_idx).sum().item()\n",
    "        total_samples += answer_idx.size(0)\n",
    "\n",
    "        for i in range(len(answer_type)):\n",
    "            ans_type_str = answer_type_map_reverse[answer_type[i].item()]\n",
    "            true_answer = idx_to_answer[answer_idx[i].item()]\n",
    "            pred_answer = idx_to_answer[pred[i].item()]\n",
    "            is_correct = pred[i] == answer_idx[i]\n",
    "\n",
    "            if ans_type_str == 'color':\n",
    "                total_color += 1\n",
    "                total_color_loss += loss_fn(output[i].unsqueeze(0), answer_idx[i].unsqueeze(0)).item()\n",
    "                color_count += 1\n",
    "                if is_correct:\n",
    "                    correct_color += 1\n",
    "                color_stats[true_answer]['total'] += 1\n",
    "                if is_correct:\n",
    "                    color_stats[true_answer]['correct'] += 1\n",
    "                else:\n",
    "                    color_stats[true_answer]['confusion'][pred_answer] += 1\n",
    "\n",
    "            elif ans_type_str == 'brand':\n",
    "                total_brand += 1\n",
    "                total_brand_loss += loss_fn(output[i].unsqueeze(0), answer_idx[i].unsqueeze(0)).item()\n",
    "                brand_count += 1\n",
    "                if is_correct:\n",
    "                    correct_brand += 1\n",
    "                brand_stats[true_answer]['total'] += 1\n",
    "                if is_correct:\n",
    "                    brand_stats[true_answer]['correct'] += 1\n",
    "                else:\n",
    "                    brand_stats[true_answer]['confusion'][pred_answer] += 1\n",
    "\n",
    "            else:\n",
    "                total_car_name += 1\n",
    "                total_car_name_loss += loss_fn(output[i].unsqueeze(0), answer_idx[i].unsqueeze(0)).item()\n",
    "                car_name_count += 1\n",
    "                if is_correct:\n",
    "                    correct_car_name += 1\n",
    "                car_name_stats[true_answer]['total'] += 1\n",
    "                if is_correct:\n",
    "                    car_name_stats[true_answer]['correct'] += 1\n",
    "                else:\n",
    "                    car_name_stats[true_answer]['confusion'][pred_answer] += 1\n",
    "\n",
    "# Tính accuracy tổng và riêng\n",
    "test_color_accuracy = correct_color / total_color if total_color > 0 else 0\n",
    "test_brand_accuracy = correct_brand / total_brand if total_brand > 0 else 0\n",
    "test_car_name_accuracy = correct_car_name / total_car_name if total_car_name > 0 else 0\n",
    "test_total_accuracy = total_correct / total_samples if total_samples > 0 else 0\n",
    "avg_color_loss = total_color_loss / color_count if color_count > 0 else 0\n",
    "avg_brand_loss = total_brand_loss / brand_count if brand_count > 0 else 0\n",
    "avg_car_name_loss = total_car_name_loss / car_name_count if car_name_count > 0 else 0\n",
    "\n",
    "# Tính top 4 sai nhiều nhất và nhầm lẫn\n",
    "def get_top_errors(stats, category_name):\n",
    "    error_rates = []\n",
    "    for answer, stat in stats.items():\n",
    "        total = stat['total']\n",
    "        correct = stat['correct']\n",
    "        if total > 0:\n",
    "            error_rate = 1 - (correct / total)\n",
    "            error_rates.append((answer, error_rate, total, stat['confusion']))\n",
    "    error_rates.sort(key=lambda x: (x[1], x[2]), reverse=True)\n",
    "    top_4 = error_rates[:4]\n",
    "    print(f\"\\nTop 4 {category_name} sai nhiều nhất:\")\n",
    "    for answer, error_rate, total, confusion in top_4:\n",
    "        print(f\"- {answer}: {error_rate:.4f} ({(error_rate * 100):.2f}%), xuất hiện {total} lần\")\n",
    "        print(f\"  Nhầm lẫn với:\")\n",
    "        for pred_answer, count in confusion.items():\n",
    "            print(f\"    + {pred_answer}: {count} lần\")\n",
    "\n",
    "# In kết quả\n",
    "print(f\"Test Total Accuracy: {test_total_accuracy:.4f}\")\n",
    "print(f\"Test Color Accuracy: {test_color_accuracy:.4f}, Brand Accuracy: {test_brand_accuracy:.4f}, Car Name Accuracy: {test_car_name_accuracy:.4f}\")\n",
    "print(f\"Test Color Loss: {avg_color_loss:.4f}, Brand Loss: {avg_brand_loss:.4f}, Car Name Loss: {avg_car_name_loss:.4f}\")\n",
    "\n",
    "get_top_errors(color_stats, \"màu\")\n",
    "get_top_errors(brand_stats, \"hãng xe\")\n",
    "get_top_errors(car_name_stats, \"tên xe\")"
   ]
  },
  {
   "cell_type": "code",
   "execution_count": 9,
   "metadata": {
    "execution": {
     "iopub.execute_input": "2025-04-25T04:45:24.093146Z",
     "iopub.status.busy": "2025-04-25T04:45:24.092360Z",
     "iopub.status.idle": "2025-04-25T04:45:25.083525Z",
     "shell.execute_reply": "2025-04-25T04:45:25.082749Z",
     "shell.execute_reply.started": "2025-04-25T04:45:24.093116Z"
    },
    "trusted": true
   },
   "outputs": [],
   "source": [
    "save_path = \"/kaggle/working/my-vqa-model\"\n",
    "os.makedirs(save_path, exist_ok=True)\n",
    "torch.save(model.state_dict(), f\"{save_path}/pytorch_model.bin\")\n",
    "config = {\n",
    "    \"vit_model\": \"google/vit-base-patch16-224\",\n",
    "    \"bert_model\": \"bert-base-uncased\",\n",
    "    \"num_answers\": len(answer_to_idx),\n",
    "    \"architecture\": \"ViT+BERT with concatenation and multiplication fusion\"\n",
    "}\n",
    "with open(f\"{save_path}/config.json\", \"w\") as f:\n",
    "    json.dump(config, f)\n",
    "tokenizer.save_pretrained(save_path)\n",
    "with open(f\"{save_path}/answer_list.json\", \"w\") as f:\n",
    "    json.dump(all_train_answers, f)"
   ]
  }
 ],
 "metadata": {
  "kaggle": {
   "accelerator": "nvidiaTeslaT4",
   "dataSources": [],
   "dockerImageVersionId": 31011,
   "isGpuEnabled": true,
   "isInternetEnabled": true,
   "language": "python",
   "sourceType": "notebook"
  },
  "kernelspec": {
   "display_name": "Python 3",
   "language": "python",
   "name": "python3"
  },
  "language_info": {
   "codemirror_mode": {
    "name": "ipython",
    "version": 3
   },
   "file_extension": ".py",
   "mimetype": "text/x-python",
   "name": "python",
   "nbconvert_exporter": "python",
   "pygments_lexer": "ipython3",
   "version": "3.11.11"
  }
 },
 "nbformat": 4,
 "nbformat_minor": 4
}
