{
 "cells": [
  {
   "cell_type": "code",
   "execution_count": 1,
   "metadata": {
    "_cell_guid": "b1076dfc-b9ad-4769-8c92-a6c4dae69d19",
    "_uuid": "8f2839f25d086af736a60e9eeb907d3b93b6e0e5",
    "execution": {
     "iopub.execute_input": "2025-04-25T02:40:07.571150Z",
     "iopub.status.busy": "2025-04-25T02:40:07.570909Z",
     "iopub.status.idle": "2025-04-25T02:40:08.901401Z",
     "shell.execute_reply": "2025-04-25T02:40:08.900782Z",
     "shell.execute_reply.started": "2025-04-25T02:40:07.571121Z"
    },
    "trusted": true
   },
   "outputs": [],
   "source": [
    "# This Python 3 environment comes with many helpful analytics libraries installed\n",
    "# It is defined by the kaggle/python Docker image: https://github.com/kaggle/docker-python\n",
    "# For example, here's several helpful packages to load\n",
    "\n",
    "import numpy as np # linear algebra\n",
    "import pandas as pd # data processing, CSV file I/O (e.g. pd.read_csv)\n",
    "\n",
    "# Input data files are available in the read-only \"../input/\" directory\n",
    "# For example, running this (by clicking run or pressing Shift+Enter) will list all files under the input directory\n",
    "\n",
    "import os\n",
    "for dirname, _, filenames in os.walk('/kaggle/input'):\n",
    "    for filename in filenames:\n",
    "        print(os.path.join(dirname, filename))\n",
    "\n",
    "# You can write up to 20GB to the current directory (/kaggle/working/) that gets preserved as output when you create a version using \"Save & Run All\" \n",
    "# You can also write temporary files to /kaggle/temp/, but they won't be saved outside of the current session"
   ]
  },
  {
   "cell_type": "code",
   "execution_count": 1,
   "metadata": {
    "execution": {
     "iopub.execute_input": "2025-04-28T01:25:57.603858Z",
     "iopub.status.busy": "2025-04-28T01:25:57.603586Z",
     "iopub.status.idle": "2025-04-28T01:26:26.457193Z",
     "shell.execute_reply": "2025-04-28T01:26:26.456381Z",
     "shell.execute_reply.started": "2025-04-28T01:25:57.603834Z"
    },
    "trusted": true
   },
   "outputs": [
    {
     "name": "stderr",
     "output_type": "stream",
     "text": [
      "2025-04-28 01:26:14.319976: E external/local_xla/xla/stream_executor/cuda/cuda_fft.cc:477] Unable to register cuFFT factory: Attempting to register factory for plugin cuFFT when one has already been registered\n",
      "WARNING: All log messages before absl::InitializeLog() is called are written to STDERR\n",
      "E0000 00:00:1745803574.615284      31 cuda_dnn.cc:8310] Unable to register cuDNN factory: Attempting to register factory for plugin cuDNN when one has already been registered\n",
      "E0000 00:00:1745803574.688288      31 cuda_blas.cc:1418] Unable to register cuBLAS factory: Attempting to register factory for plugin cuBLAS when one has already been registered\n"
     ]
    }
   ],
   "source": [
    "from datasets import load_dataset\n",
    "import torch\n",
    "from transformers import ViTModel, BertModel, BertTokenizer\n",
    "from torch.utils.data import Dataset, DataLoader\n",
    "from torch.optim import AdamW\n",
    "from torch import nn\n",
    "from torch.cuda.amp import GradScaler, autocast\n",
    "from torch.optim.lr_scheduler import ReduceLROnPlateau\n",
    "from tqdm import tqdm\n",
    "from datasets import load_dataset\n",
    "from PIL import Image\n",
    "import io\n",
    "import json\n",
    "import os\n",
    "from torchvision import transforms\n",
    "from huggingface_hub import HfApi, login\n"
   ]
  },
  {
   "cell_type": "code",
   "execution_count": 2,
   "metadata": {
    "execution": {
     "iopub.execute_input": "2025-04-28T01:26:45.450852Z",
     "iopub.status.busy": "2025-04-28T01:26:45.449895Z",
     "iopub.status.idle": "2025-04-28T01:26:48.429074Z",
     "shell.execute_reply": "2025-04-28T01:26:48.428309Z",
     "shell.execute_reply.started": "2025-04-28T01:26:45.450824Z"
    },
    "trusted": true
   },
   "outputs": [
    {
     "data": {
      "application/vnd.jupyter.widget-view+json": {
       "model_id": "a948365aa199497f94849a6fbcbb27b9",
       "version_major": 2,
       "version_minor": 0
      },
      "text/plain": [
       "README.md:   0%|          | 0.00/670 [00:00<?, ?B/s]"
      ]
     },
     "metadata": {},
     "output_type": "display_data"
    },
    {
     "data": {
      "application/vnd.jupyter.widget-view+json": {
       "model_id": "2b93320b1442451caeecb71dd6343663",
       "version_major": 2,
       "version_minor": 0
      },
      "text/plain": [
       "train-00000-of-00001.parquet:   0%|          | 0.00/42.9M [00:00<?, ?B/s]"
      ]
     },
     "metadata": {},
     "output_type": "display_data"
    },
    {
     "data": {
      "application/vnd.jupyter.widget-view+json": {
       "model_id": "bf7611010b07462e92e7244024997b59",
       "version_major": 2,
       "version_minor": 0
      },
      "text/plain": [
       "validation-00000-of-00001.parquet:   0%|          | 0.00/13.8M [00:00<?, ?B/s]"
      ]
     },
     "metadata": {},
     "output_type": "display_data"
    },
    {
     "data": {
      "application/vnd.jupyter.widget-view+json": {
       "model_id": "eee177db07574f0c8210270e7b3cc1a7",
       "version_major": 2,
       "version_minor": 0
      },
      "text/plain": [
       "test-00000-of-00001.parquet:   0%|          | 0.00/14.3M [00:00<?, ?B/s]"
      ]
     },
     "metadata": {},
     "output_type": "display_data"
    },
    {
     "data": {
      "application/vnd.jupyter.widget-view+json": {
       "model_id": "92cf5f4ed2b740feb60388777aa74af0",
       "version_major": 2,
       "version_minor": 0
      },
      "text/plain": [
       "Generating train split:   0%|          | 0/15468 [00:00<?, ? examples/s]"
      ]
     },
     "metadata": {},
     "output_type": "display_data"
    },
    {
     "data": {
      "application/vnd.jupyter.widget-view+json": {
       "model_id": "85ada01c5ce04e3eb7482aed5856724b",
       "version_major": 2,
       "version_minor": 0
      },
      "text/plain": [
       "Generating validation split:   0%|          | 0/4824 [00:00<?, ? examples/s]"
      ]
     },
     "metadata": {},
     "output_type": "display_data"
    },
    {
     "data": {
      "application/vnd.jupyter.widget-view+json": {
       "model_id": "6485b3b679f94c00b0e5452c3f3444d9",
       "version_major": 2,
       "version_minor": 0
      },
      "text/plain": [
       "Generating test split:   0%|          | 0/5154 [00:00<?, ? examples/s]"
      ]
     },
     "metadata": {},
     "output_type": "display_data"
    }
   ],
   "source": [
    "ds = load_dataset('khoadole/cars_8k_balance_dataset_full_augmented_v2')"
   ]
  },
  {
   "cell_type": "code",
   "execution_count": 3,
   "metadata": {
    "execution": {
     "iopub.execute_input": "2025-04-28T01:26:50.385656Z",
     "iopub.status.busy": "2025-04-28T01:26:50.385380Z",
     "iopub.status.idle": "2025-04-28T01:26:50.390149Z",
     "shell.execute_reply": "2025-04-28T01:26:50.389179Z",
     "shell.execute_reply.started": "2025-04-28T01:26:50.385632Z"
    },
    "trusted": true
   },
   "outputs": [],
   "source": [
    "color_list = ['blue', 'white', 'black', 'gray', 'silver']\n",
    "brand_list = ['bentley', 'audi', 'bmw', 'acura']\n",
    "\n",
    "def get_answer_type(answer):\n",
    "    if answer in color_list:\n",
    "        return 'color'\n",
    "    elif answer in brand_list:\n",
    "        return 'brand'\n",
    "    else:\n",
    "        return 'car_name'"
   ]
  },
  {
   "cell_type": "code",
   "execution_count": 4,
   "metadata": {
    "execution": {
     "iopub.execute_input": "2025-04-28T01:26:51.616057Z",
     "iopub.status.busy": "2025-04-28T01:26:51.615327Z",
     "iopub.status.idle": "2025-04-28T01:26:51.622407Z",
     "shell.execute_reply": "2025-04-28T01:26:51.621671Z",
     "shell.execute_reply.started": "2025-04-28T01:26:51.616029Z"
    },
    "trusted": true
   },
   "outputs": [],
   "source": [
    "class VQADataset(Dataset):\n",
    "    def __init__(self, dataset, tokenizer, answer_to_idx):\n",
    "        self.dataset = dataset\n",
    "        self.tokenizer = tokenizer\n",
    "        self.answer_to_idx = answer_to_idx\n",
    "        self.transform = transforms.Compose([\n",
    "            transforms.Resize((224, 224)),\n",
    "            transforms.ToTensor(),\n",
    "            transforms.Normalize(mean=[0.485, 0.456, 0.406], std=[0.229, 0.224, 0.225]),\n",
    "        ])\n",
    "        # Định nghĩa mapping cho answer_type\n",
    "        self.answer_type_map = {'color': 0, 'brand': 1, 'car_name': 2}\n",
    "\n",
    "    def __len__(self):\n",
    "        return len(self.dataset)\n",
    "\n",
    "    def __getitem__(self, idx):\n",
    "        sample = self.dataset[idx]\n",
    "        image_bytes = sample['image']['bytes']\n",
    "        image = Image.open(io.BytesIO(image_bytes)).convert('RGB')\n",
    "        image_tensor = self.transform(image)\n",
    "        question = sample['question']\n",
    "        tokenized = self.tokenizer(question, padding='max_length', truncation=True, max_length=32, return_tensors='pt')\n",
    "        input_ids = tokenized['input_ids'].squeeze(0)\n",
    "        attention_mask = tokenized['attention_mask'].squeeze(0)\n",
    "        answer = sample['answer']\n",
    "        answer_idx = self.answer_to_idx.get(answer, -1)\n",
    "        answer_type = torch.tensor(self.answer_type_map[get_answer_type(answer)], dtype=torch.long)  # Chuyển thành tensor\n",
    "        return image_tensor, input_ids, attention_mask, answer_idx, answer_type"
   ]
  },
  {
   "cell_type": "code",
   "execution_count": 15,
   "metadata": {
    "execution": {
     "iopub.execute_input": "2025-04-28T02:58:54.277941Z",
     "iopub.status.busy": "2025-04-28T02:58:54.277329Z",
     "iopub.status.idle": "2025-04-28T02:58:54.287384Z",
     "shell.execute_reply": "2025-04-28T02:58:54.286254Z",
     "shell.execute_reply.started": "2025-04-28T02:58:54.277908Z"
    },
    "trusted": true
   },
   "outputs": [],
   "source": [
    "class VQAModel(nn.Module):\n",
    "    def __init__(self, num_answers):\n",
    "        super(VQAModel, self).__init__()\n",
    "        self.vit = ViTModel.from_pretrained('google/vit-base-patch16-224')\n",
    "        self.bert = BertModel.from_pretrained('bert-base-uncased')\n",
    "        \n",
    "        # Co-attention\n",
    "        self.image_to_text_attn = nn.MultiheadAttention(embed_dim=768, num_heads=4, batch_first=True)\n",
    "        self.text_to_image_attn = nn.MultiheadAttention(embed_dim=768, num_heads=4, batch_first=True)\n",
    "        \n",
    "        # Gate cho màu\n",
    "        self.color_gate = nn.Sequential(\n",
    "            nn.Linear(768, 768),\n",
    "            nn.Sigmoid()\n",
    "        )\n",
    "        \n",
    "        # Classifier\n",
    "        self.classifier = nn.Sequential(\n",
    "            nn.Dropout(0.5),\n",
    "            nn.Linear(768 * 4, 1536),\n",
    "            nn.GELU(),\n",
    "            nn.Linear(1536, 768),\n",
    "            nn.GELU(),\n",
    "            nn.Linear(768, num_answers)\n",
    "        )\n",
    "        \n",
    "        # Freeze layers\n",
    "        # for param in self.vit.encoder.layer[:6].parameters():\n",
    "        #     param.requires_grad = False\n",
    "        for param in self.bert.encoder.layer[:3].parameters():\n",
    "            param.requires_grad = False\n",
    "    def forward(self, image, input_ids, attention_mask):\n",
    "        # ViT\n",
    "        vit_outputs = self.vit(image)\n",
    "        image_tokens = vit_outputs.last_hidden_state  # [batch_size, 197, 768]\n",
    "        image_cls = image_tokens[:, 0, :]  # [batch_size, 768]\n",
    "        \n",
    "        # BERT\n",
    "        bert_outputs = self.bert(input_ids, attention_mask=attention_mask)\n",
    "        text_tokens = bert_outputs.last_hidden_state  # [batch_size, 32, 768]\n",
    "        text_cls = text_tokens[:, 0, :]  # [batch_size, 768]\n",
    "        \n",
    "        # Co-attention\n",
    "        # 1. Image-to-Text: image tokens attend to text tokens\n",
    "        image_attended, _ = self.image_to_text_attn(\n",
    "            query=image_tokens,  # [batch_size, 197, 768]\n",
    "            key=text_tokens,    # [batch_size, 32, 768]\n",
    "            value=text_tokens   # [batch_size, 32, 768]\n",
    "        )\n",
    "        image_attended_summary = image_attended.mean(dim=1)  # [batch_size, 768]\n",
    "        \n",
    "        # 2. Text-to-Image: text tokens attend to image tokens\n",
    "        text_attended, _ = self.text_to_image_attn(\n",
    "            query=text_tokens,  # [batch_size, 32, 768]\n",
    "            key=image_tokens,   # [batch_size, 197, 768]\n",
    "            value=image_tokens  # [batch_size, 197, 768]\n",
    "        )\n",
    "        text_attended_summary = text_attended.mean(dim=1)  # [batch_size, 768]\n",
    "        \n",
    "        # Gate cho màu\n",
    "        color_gate = self.color_gate(text_cls)  # [batch_size, 768]\n",
    "        gated_image = image_attended_summary * color_gate  # [batch_size, 768]\n",
    "        \n",
    "        # Fusion\n",
    "        combined = torch.cat([image_cls, text_cls, text_attended_summary, gated_image], dim=1)  # [batch_size, 768*4=3072]\n",
    "        \n",
    "        # Classifier\n",
    "        output = self.classifier(combined)\n",
    "        return output"
   ]
  },
  {
   "cell_type": "code",
   "execution_count": 16,
   "metadata": {
    "execution": {
     "iopub.execute_input": "2025-04-28T02:59:03.073770Z",
     "iopub.status.busy": "2025-04-28T02:59:03.073097Z",
     "iopub.status.idle": "2025-04-28T02:59:04.652208Z",
     "shell.execute_reply": "2025-04-28T02:59:04.651363Z",
     "shell.execute_reply.started": "2025-04-28T02:59:03.073747Z"
    },
    "trusted": true
   },
   "outputs": [
    {
     "name": "stderr",
     "output_type": "stream",
     "text": [
      "Some weights of ViTModel were not initialized from the model checkpoint at google/vit-base-patch16-224 and are newly initialized: ['pooler.dense.bias', 'pooler.dense.weight']\n",
      "You should probably TRAIN this model on a down-stream task to be able to use it for predictions and inference.\n",
      "/tmp/ipykernel_31/1126064032.py:17: FutureWarning: `torch.cuda.amp.GradScaler(args...)` is deprecated. Please use `torch.amp.GradScaler('cuda', args...)` instead.\n",
      "  scaler = GradScaler()\n"
     ]
    }
   ],
   "source": [
    "all_train_answers = list(set(sample['answer'] for sample in ds['train']))\n",
    "answer_to_idx = {answer: idx for idx, answer in enumerate(all_train_answers)}\n",
    "\n",
    "tokenizer = BertTokenizer.from_pretrained('bert-base-uncased')\n",
    "train_dataset = VQADataset(ds['train'], tokenizer, answer_to_idx)\n",
    "val_dataset = VQADataset(ds['validation'], tokenizer, answer_to_idx)\n",
    "test_dataset = VQADataset(ds['test'], tokenizer, answer_to_idx)\n",
    "\n",
    "train_loader = DataLoader(train_dataset, batch_size=32, shuffle=True, num_workers=4, pin_memory=True)\n",
    "val_loader = DataLoader(val_dataset, batch_size=32, shuffle=False, num_workers=4, pin_memory=True)\n",
    "test_loader = DataLoader(test_dataset, batch_size=32, shuffle=False, num_workers=4, pin_memory=True)\n",
    "\n",
    "# Khởi tạo mô hình và tối ưu\n",
    "device = 'cuda' if torch.cuda.is_available() else 'cpu'\n",
    "model = VQAModel(num_answers=len(answer_to_idx)).to(device)\n",
    "optimizer = AdamW(model.parameters(), lr=5e-5, weight_decay=0.01)\n",
    "scaler = GradScaler()\n",
    "scheduler = ReduceLROnPlateau(optimizer, mode='max', factor=0.1, patience=3, verbose=True)\n",
    "loss_fn = nn.CrossEntropyLoss(label_smoothing=0.1)"
   ]
  },
  {
   "cell_type": "code",
   "execution_count": 17,
   "metadata": {
    "execution": {
     "iopub.execute_input": "2025-04-28T02:59:06.649336Z",
     "iopub.status.busy": "2025-04-28T02:59:06.648631Z",
     "iopub.status.idle": "2025-04-28T04:47:57.296165Z",
     "shell.execute_reply": "2025-04-28T04:47:57.295155Z",
     "shell.execute_reply.started": "2025-04-28T02:59:06.649305Z"
    },
    "trusted": true
   },
   "outputs": [
    {
     "name": "stderr",
     "output_type": "stream",
     "text": [
      "Epoch 1/30 - Training:   0%|          | 0/484 [00:00<?, ?it/s]/tmp/ipykernel_31/3882584153.py:32: FutureWarning: `torch.cuda.amp.autocast(args...)` is deprecated. Please use `torch.amp.autocast('cuda', args...)` instead.\n",
      "  with autocast():\n",
      "Epoch 1/30 - Training: 100%|██████████| 484/484 [03:17<00:00,  2.45it/s]\n"
     ]
    },
    {
     "name": "stdout",
     "output_type": "stream",
     "text": [
      "Epoch 1, Train Loss: 1.6132\n",
      "Color Loss: 1.3745, Brand Loss: 1.2823, Car Name Loss: 2.1853\n"
     ]
    },
    {
     "name": "stderr",
     "output_type": "stream",
     "text": [
      "Epoch 1/30 - Validation:   0%|          | 0/151 [00:00<?, ?it/s]/tmp/ipykernel_31/3882584153.py:76: FutureWarning: `torch.cuda.amp.autocast(args...)` is deprecated. Please use `torch.amp.autocast('cuda', args...)` instead.\n",
      "  with autocast():\n",
      "Epoch 1/30 - Validation: 100%|██████████| 151/151 [00:18<00:00,  8.20it/s]\n"
     ]
    },
    {
     "name": "stdout",
     "output_type": "stream",
     "text": [
      "Epoch 1, Validation Accuracy: 0.7469\n"
     ]
    },
    {
     "name": "stderr",
     "output_type": "stream",
     "text": [
      "Epoch 2/30 - Training: 100%|██████████| 484/484 [03:18<00:00,  2.44it/s]\n"
     ]
    },
    {
     "name": "stdout",
     "output_type": "stream",
     "text": [
      "Epoch 2, Train Loss: 1.0270\n",
      "Color Loss: 0.9829, Brand Loss: 0.7100, Car Name Loss: 1.3884\n"
     ]
    },
    {
     "name": "stderr",
     "output_type": "stream",
     "text": [
      "Epoch 2/30 - Validation: 100%|██████████| 151/151 [00:18<00:00,  8.14it/s]\n"
     ]
    },
    {
     "name": "stdout",
     "output_type": "stream",
     "text": [
      "Epoch 2, Validation Accuracy: 0.7821\n"
     ]
    },
    {
     "name": "stderr",
     "output_type": "stream",
     "text": [
      "Epoch 3/30 - Training: 100%|██████████| 484/484 [03:18<00:00,  2.44it/s]\n"
     ]
    },
    {
     "name": "stdout",
     "output_type": "stream",
     "text": [
      "Epoch 3, Train Loss: 0.8590\n",
      "Color Loss: 0.8104, Brand Loss: 0.6610, Car Name Loss: 1.1054\n"
     ]
    },
    {
     "name": "stderr",
     "output_type": "stream",
     "text": [
      "Epoch 3/30 - Validation: 100%|██████████| 151/151 [00:18<00:00,  8.23it/s]\n"
     ]
    },
    {
     "name": "stdout",
     "output_type": "stream",
     "text": [
      "Epoch 3, Validation Accuracy: 0.8186\n"
     ]
    },
    {
     "name": "stderr",
     "output_type": "stream",
     "text": [
      "Epoch 4/30 - Training: 100%|██████████| 484/484 [03:18<00:00,  2.44it/s]\n"
     ]
    },
    {
     "name": "stdout",
     "output_type": "stream",
     "text": [
      "Epoch 4, Train Loss: 0.7545\n",
      "Color Loss: 0.7157, Brand Loss: 0.6545, Car Name Loss: 0.8930\n"
     ]
    },
    {
     "name": "stderr",
     "output_type": "stream",
     "text": [
      "Epoch 4/30 - Validation: 100%|██████████| 151/151 [00:18<00:00,  8.17it/s]\n"
     ]
    },
    {
     "name": "stdout",
     "output_type": "stream",
     "text": [
      "Epoch 4, Validation Accuracy: 0.8217\n"
     ]
    },
    {
     "name": "stderr",
     "output_type": "stream",
     "text": [
      "Epoch 5/30 - Training: 100%|██████████| 484/484 [03:19<00:00,  2.43it/s]\n"
     ]
    },
    {
     "name": "stdout",
     "output_type": "stream",
     "text": [
      "Epoch 5, Train Loss: 0.6868\n",
      "Color Loss: 0.6676, Brand Loss: 0.6441, Car Name Loss: 0.7487\n"
     ]
    },
    {
     "name": "stderr",
     "output_type": "stream",
     "text": [
      "Epoch 5/30 - Validation: 100%|██████████| 151/151 [00:18<00:00,  8.17it/s]\n"
     ]
    },
    {
     "name": "stdout",
     "output_type": "stream",
     "text": [
      "Epoch 5, Validation Accuracy: 0.8456\n"
     ]
    },
    {
     "name": "stderr",
     "output_type": "stream",
     "text": [
      "Epoch 6/30 - Training: 100%|██████████| 484/484 [03:18<00:00,  2.44it/s]\n"
     ]
    },
    {
     "name": "stdout",
     "output_type": "stream",
     "text": [
      "Epoch 6, Train Loss: 0.6591\n",
      "Color Loss: 0.6490, Brand Loss: 0.6383, Car Name Loss: 0.6901\n"
     ]
    },
    {
     "name": "stderr",
     "output_type": "stream",
     "text": [
      "Epoch 6/30 - Validation: 100%|██████████| 151/151 [00:18<00:00,  8.18it/s]\n"
     ]
    },
    {
     "name": "stdout",
     "output_type": "stream",
     "text": [
      "Epoch 6, Validation Accuracy: 0.8478\n"
     ]
    },
    {
     "name": "stderr",
     "output_type": "stream",
     "text": [
      "Epoch 7/30 - Training: 100%|██████████| 484/484 [03:17<00:00,  2.45it/s]\n"
     ]
    },
    {
     "name": "stdout",
     "output_type": "stream",
     "text": [
      "Epoch 7, Train Loss: 0.6432\n",
      "Color Loss: 0.6372, Brand Loss: 0.6337, Car Name Loss: 0.6587\n"
     ]
    },
    {
     "name": "stderr",
     "output_type": "stream",
     "text": [
      "Epoch 7/30 - Validation: 100%|██████████| 151/151 [00:18<00:00,  8.15it/s]\n"
     ]
    },
    {
     "name": "stdout",
     "output_type": "stream",
     "text": [
      "Epoch 7, Validation Accuracy: 0.8566\n"
     ]
    },
    {
     "name": "stderr",
     "output_type": "stream",
     "text": [
      "Epoch 8/30 - Training: 100%|██████████| 484/484 [03:18<00:00,  2.44it/s]\n"
     ]
    },
    {
     "name": "stdout",
     "output_type": "stream",
     "text": [
      "Epoch 8, Train Loss: 0.6390\n",
      "Color Loss: 0.6365, Brand Loss: 0.6299, Car Name Loss: 0.6506\n"
     ]
    },
    {
     "name": "stderr",
     "output_type": "stream",
     "text": [
      "Epoch 8/30 - Validation: 100%|██████████| 151/151 [00:18<00:00,  8.14it/s]\n"
     ]
    },
    {
     "name": "stdout",
     "output_type": "stream",
     "text": [
      "Epoch 8, Validation Accuracy: 0.8615\n"
     ]
    },
    {
     "name": "stderr",
     "output_type": "stream",
     "text": [
      "Epoch 9/30 - Training: 100%|██████████| 484/484 [03:18<00:00,  2.44it/s]\n"
     ]
    },
    {
     "name": "stdout",
     "output_type": "stream",
     "text": [
      "Epoch 9, Train Loss: 0.6355\n",
      "Color Loss: 0.6342, Brand Loss: 0.6276, Car Name Loss: 0.6448\n"
     ]
    },
    {
     "name": "stderr",
     "output_type": "stream",
     "text": [
      "Epoch 9/30 - Validation: 100%|██████████| 151/151 [00:18<00:00,  8.15it/s]\n"
     ]
    },
    {
     "name": "stdout",
     "output_type": "stream",
     "text": [
      "Epoch 9, Validation Accuracy: 0.8609\n"
     ]
    },
    {
     "name": "stderr",
     "output_type": "stream",
     "text": [
      "Epoch 10/30 - Training: 100%|██████████| 484/484 [03:18<00:00,  2.44it/s]\n"
     ]
    },
    {
     "name": "stdout",
     "output_type": "stream",
     "text": [
      "Epoch 10, Train Loss: 0.7187\n",
      "Color Loss: 0.7483, Brand Loss: 0.6496, Car Name Loss: 0.7586\n"
     ]
    },
    {
     "name": "stderr",
     "output_type": "stream",
     "text": [
      "Epoch 10/30 - Validation: 100%|██████████| 151/151 [00:18<00:00,  8.18it/s]\n"
     ]
    },
    {
     "name": "stdout",
     "output_type": "stream",
     "text": [
      "Epoch 10, Validation Accuracy: 0.8275\n"
     ]
    },
    {
     "name": "stderr",
     "output_type": "stream",
     "text": [
      "Epoch 11/30 - Training: 100%|██████████| 484/484 [03:18<00:00,  2.44it/s]\n"
     ]
    },
    {
     "name": "stdout",
     "output_type": "stream",
     "text": [
      "Epoch 11, Train Loss: 0.6804\n",
      "Color Loss: 0.6880, Brand Loss: 0.6368, Car Name Loss: 0.7166\n"
     ]
    },
    {
     "name": "stderr",
     "output_type": "stream",
     "text": [
      "Epoch 11/30 - Validation: 100%|██████████| 151/151 [00:18<00:00,  8.15it/s]\n"
     ]
    },
    {
     "name": "stdout",
     "output_type": "stream",
     "text": [
      "Epoch 11, Validation Accuracy: 0.8516\n"
     ]
    },
    {
     "name": "stderr",
     "output_type": "stream",
     "text": [
      "Epoch 12/30 - Training: 100%|██████████| 484/484 [03:17<00:00,  2.45it/s]\n"
     ]
    },
    {
     "name": "stdout",
     "output_type": "stream",
     "text": [
      "Epoch 12, Train Loss: 0.6464\n",
      "Color Loss: 0.6471, Brand Loss: 0.6294, Car Name Loss: 0.6621\n"
     ]
    },
    {
     "name": "stderr",
     "output_type": "stream",
     "text": [
      "Epoch 12/30 - Validation: 100%|██████████| 151/151 [00:18<00:00,  8.19it/s]\n"
     ]
    },
    {
     "name": "stdout",
     "output_type": "stream",
     "text": [
      "Epoch 12, Validation Accuracy: 0.8325\n"
     ]
    },
    {
     "name": "stderr",
     "output_type": "stream",
     "text": [
      "Epoch 13/30 - Training: 100%|██████████| 484/484 [03:17<00:00,  2.45it/s]\n"
     ]
    },
    {
     "name": "stdout",
     "output_type": "stream",
     "text": [
      "Epoch 13, Train Loss: 0.6381\n",
      "Color Loss: 0.6400, Brand Loss: 0.6275, Car Name Loss: 0.6469\n"
     ]
    },
    {
     "name": "stderr",
     "output_type": "stream",
     "text": [
      "Epoch 13/30 - Validation: 100%|██████████| 151/151 [00:18<00:00,  8.19it/s]\n"
     ]
    },
    {
     "name": "stdout",
     "output_type": "stream",
     "text": [
      "Epoch 13, Validation Accuracy: 0.8632\n"
     ]
    },
    {
     "name": "stderr",
     "output_type": "stream",
     "text": [
      "Epoch 14/30 - Training: 100%|██████████| 484/484 [03:17<00:00,  2.45it/s]\n"
     ]
    },
    {
     "name": "stdout",
     "output_type": "stream",
     "text": [
      "Epoch 14, Train Loss: 0.6313\n",
      "Color Loss: 0.6301, Brand Loss: 0.6254, Car Name Loss: 0.6385\n"
     ]
    },
    {
     "name": "stderr",
     "output_type": "stream",
     "text": [
      "Epoch 14/30 - Validation: 100%|██████████| 151/151 [00:18<00:00,  8.15it/s]\n"
     ]
    },
    {
     "name": "stdout",
     "output_type": "stream",
     "text": [
      "Epoch 14, Validation Accuracy: 0.8661\n"
     ]
    },
    {
     "name": "stderr",
     "output_type": "stream",
     "text": [
      "Epoch 15/30 - Training: 100%|██████████| 484/484 [03:17<00:00,  2.45it/s]\n"
     ]
    },
    {
     "name": "stdout",
     "output_type": "stream",
     "text": [
      "Epoch 15, Train Loss: 0.6303\n",
      "Color Loss: 0.6298, Brand Loss: 0.6250, Car Name Loss: 0.6362\n"
     ]
    },
    {
     "name": "stderr",
     "output_type": "stream",
     "text": [
      "Epoch 15/30 - Validation: 100%|██████████| 151/151 [00:18<00:00,  8.18it/s]\n"
     ]
    },
    {
     "name": "stdout",
     "output_type": "stream",
     "text": [
      "Epoch 15, Validation Accuracy: 0.8661\n"
     ]
    },
    {
     "name": "stderr",
     "output_type": "stream",
     "text": [
      "Epoch 16/30 - Training: 100%|██████████| 484/484 [03:18<00:00,  2.44it/s]\n"
     ]
    },
    {
     "name": "stdout",
     "output_type": "stream",
     "text": [
      "Epoch 16, Train Loss: 0.6299\n",
      "Color Loss: 0.6291, Brand Loss: 0.6251, Car Name Loss: 0.6354\n"
     ]
    },
    {
     "name": "stderr",
     "output_type": "stream",
     "text": [
      "Epoch 16/30 - Validation: 100%|██████████| 151/151 [00:18<00:00,  8.15it/s]\n"
     ]
    },
    {
     "name": "stdout",
     "output_type": "stream",
     "text": [
      "Epoch 16, Validation Accuracy: 0.8698\n"
     ]
    },
    {
     "name": "stderr",
     "output_type": "stream",
     "text": [
      "Epoch 17/30 - Training: 100%|██████████| 484/484 [03:17<00:00,  2.45it/s]\n"
     ]
    },
    {
     "name": "stdout",
     "output_type": "stream",
     "text": [
      "Epoch 17, Train Loss: 0.6296\n",
      "Color Loss: 0.6293, Brand Loss: 0.6248, Car Name Loss: 0.6348\n"
     ]
    },
    {
     "name": "stderr",
     "output_type": "stream",
     "text": [
      "Epoch 17/30 - Validation: 100%|██████████| 151/151 [00:18<00:00,  8.15it/s]\n"
     ]
    },
    {
     "name": "stdout",
     "output_type": "stream",
     "text": [
      "Epoch 17, Validation Accuracy: 0.8706\n"
     ]
    },
    {
     "name": "stderr",
     "output_type": "stream",
     "text": [
      "Epoch 18/30 - Training: 100%|██████████| 484/484 [03:17<00:00,  2.45it/s]\n"
     ]
    },
    {
     "name": "stdout",
     "output_type": "stream",
     "text": [
      "Epoch 18, Train Loss: 0.6290\n",
      "Color Loss: 0.6288, Brand Loss: 0.6249, Car Name Loss: 0.6333\n"
     ]
    },
    {
     "name": "stderr",
     "output_type": "stream",
     "text": [
      "Epoch 18/30 - Validation: 100%|██████████| 151/151 [00:18<00:00,  8.19it/s]\n"
     ]
    },
    {
     "name": "stdout",
     "output_type": "stream",
     "text": [
      "Epoch 18, Validation Accuracy: 0.8692\n"
     ]
    },
    {
     "name": "stderr",
     "output_type": "stream",
     "text": [
      "Epoch 19/30 - Training: 100%|██████████| 484/484 [03:17<00:00,  2.45it/s]\n"
     ]
    },
    {
     "name": "stdout",
     "output_type": "stream",
     "text": [
      "Epoch 19, Train Loss: 0.6287\n",
      "Color Loss: 0.6291, Brand Loss: 0.6245, Car Name Loss: 0.6326\n"
     ]
    },
    {
     "name": "stderr",
     "output_type": "stream",
     "text": [
      "Epoch 19/30 - Validation: 100%|██████████| 151/151 [00:18<00:00,  8.13it/s]\n"
     ]
    },
    {
     "name": "stdout",
     "output_type": "stream",
     "text": [
      "Epoch 19, Validation Accuracy: 0.8719\n"
     ]
    },
    {
     "name": "stderr",
     "output_type": "stream",
     "text": [
      "Epoch 20/30 - Training: 100%|██████████| 484/484 [03:17<00:00,  2.45it/s]\n"
     ]
    },
    {
     "name": "stdout",
     "output_type": "stream",
     "text": [
      "Epoch 20, Train Loss: 0.6285\n",
      "Color Loss: 0.6285, Brand Loss: 0.6245, Car Name Loss: 0.6325\n"
     ]
    },
    {
     "name": "stderr",
     "output_type": "stream",
     "text": [
      "Epoch 20/30 - Validation: 100%|██████████| 151/151 [00:18<00:00,  8.17it/s]\n"
     ]
    },
    {
     "name": "stdout",
     "output_type": "stream",
     "text": [
      "Epoch 20, Validation Accuracy: 0.8711\n"
     ]
    },
    {
     "name": "stderr",
     "output_type": "stream",
     "text": [
      "Epoch 21/30 - Training: 100%|██████████| 484/484 [03:17<00:00,  2.45it/s]\n"
     ]
    },
    {
     "name": "stdout",
     "output_type": "stream",
     "text": [
      "Epoch 21, Train Loss: 0.6283\n",
      "Color Loss: 0.6288, Brand Loss: 0.6244, Car Name Loss: 0.6318\n"
     ]
    },
    {
     "name": "stderr",
     "output_type": "stream",
     "text": [
      "Epoch 21/30 - Validation: 100%|██████████| 151/151 [00:18<00:00,  8.15it/s]\n"
     ]
    },
    {
     "name": "stdout",
     "output_type": "stream",
     "text": [
      "Epoch 21, Validation Accuracy: 0.8735\n"
     ]
    },
    {
     "name": "stderr",
     "output_type": "stream",
     "text": [
      "Epoch 22/30 - Training: 100%|██████████| 484/484 [03:18<00:00,  2.44it/s]\n"
     ]
    },
    {
     "name": "stdout",
     "output_type": "stream",
     "text": [
      "Epoch 22, Train Loss: 0.6281\n",
      "Color Loss: 0.6288, Brand Loss: 0.6242, Car Name Loss: 0.6313\n"
     ]
    },
    {
     "name": "stderr",
     "output_type": "stream",
     "text": [
      "Epoch 22/30 - Validation: 100%|██████████| 151/151 [00:18<00:00,  8.16it/s]\n"
     ]
    },
    {
     "name": "stdout",
     "output_type": "stream",
     "text": [
      "Epoch 22, Validation Accuracy: 0.8738\n"
     ]
    },
    {
     "name": "stderr",
     "output_type": "stream",
     "text": [
      "Epoch 23/30 - Training: 100%|██████████| 484/484 [03:17<00:00,  2.45it/s]\n"
     ]
    },
    {
     "name": "stdout",
     "output_type": "stream",
     "text": [
      "Epoch 23, Train Loss: 0.6279\n",
      "Color Loss: 0.6289, Brand Loss: 0.6242, Car Name Loss: 0.6306\n"
     ]
    },
    {
     "name": "stderr",
     "output_type": "stream",
     "text": [
      "Epoch 23/30 - Validation: 100%|██████████| 151/151 [00:18<00:00,  8.16it/s]\n"
     ]
    },
    {
     "name": "stdout",
     "output_type": "stream",
     "text": [
      "Epoch 23, Validation Accuracy: 0.8746\n"
     ]
    },
    {
     "name": "stderr",
     "output_type": "stream",
     "text": [
      "Epoch 24/30 - Training: 100%|██████████| 484/484 [03:17<00:00,  2.45it/s]\n"
     ]
    },
    {
     "name": "stdout",
     "output_type": "stream",
     "text": [
      "Epoch 24, Train Loss: 0.6276\n",
      "Color Loss: 0.6285, Brand Loss: 0.6243, Car Name Loss: 0.6300\n"
     ]
    },
    {
     "name": "stderr",
     "output_type": "stream",
     "text": [
      "Epoch 24/30 - Validation: 100%|██████████| 151/151 [00:18<00:00,  8.19it/s]\n"
     ]
    },
    {
     "name": "stdout",
     "output_type": "stream",
     "text": [
      "Epoch 24, Validation Accuracy: 0.8733\n"
     ]
    },
    {
     "name": "stderr",
     "output_type": "stream",
     "text": [
      "Epoch 25/30 - Training: 100%|██████████| 484/484 [03:17<00:00,  2.45it/s]\n"
     ]
    },
    {
     "name": "stdout",
     "output_type": "stream",
     "text": [
      "Epoch 25, Train Loss: 0.6276\n",
      "Color Loss: 0.6284, Brand Loss: 0.6241, Car Name Loss: 0.6303\n"
     ]
    },
    {
     "name": "stderr",
     "output_type": "stream",
     "text": [
      "Epoch 25/30 - Validation: 100%|██████████| 151/151 [00:18<00:00,  8.11it/s]\n"
     ]
    },
    {
     "name": "stdout",
     "output_type": "stream",
     "text": [
      "Epoch 25, Validation Accuracy: 0.8758\n"
     ]
    },
    {
     "name": "stderr",
     "output_type": "stream",
     "text": [
      "Epoch 26/30 - Training: 100%|██████████| 484/484 [03:17<00:00,  2.45it/s]\n"
     ]
    },
    {
     "name": "stdout",
     "output_type": "stream",
     "text": [
      "Epoch 26, Train Loss: 0.6274\n",
      "Color Loss: 0.6285, Brand Loss: 0.6237, Car Name Loss: 0.6300\n"
     ]
    },
    {
     "name": "stderr",
     "output_type": "stream",
     "text": [
      "Epoch 26/30 - Validation: 100%|██████████| 151/151 [00:18<00:00,  8.15it/s]\n"
     ]
    },
    {
     "name": "stdout",
     "output_type": "stream",
     "text": [
      "Epoch 26, Validation Accuracy: 0.8750\n"
     ]
    },
    {
     "name": "stderr",
     "output_type": "stream",
     "text": [
      "Epoch 27/30 - Training: 100%|██████████| 484/484 [03:17<00:00,  2.45it/s]\n"
     ]
    },
    {
     "name": "stdout",
     "output_type": "stream",
     "text": [
      "Epoch 27, Train Loss: 0.6272\n",
      "Color Loss: 0.6281, Brand Loss: 0.6238, Car Name Loss: 0.6296\n"
     ]
    },
    {
     "name": "stderr",
     "output_type": "stream",
     "text": [
      "Epoch 27/30 - Validation: 100%|██████████| 151/151 [00:18<00:00,  8.17it/s]\n"
     ]
    },
    {
     "name": "stdout",
     "output_type": "stream",
     "text": [
      "Epoch 27, Validation Accuracy: 0.8742\n"
     ]
    },
    {
     "name": "stderr",
     "output_type": "stream",
     "text": [
      "Epoch 28/30 - Training: 100%|██████████| 484/484 [03:18<00:00,  2.44it/s]\n"
     ]
    },
    {
     "name": "stdout",
     "output_type": "stream",
     "text": [
      "Epoch 28, Train Loss: 0.6272\n",
      "Color Loss: 0.6284, Brand Loss: 0.6238, Car Name Loss: 0.6293\n"
     ]
    },
    {
     "name": "stderr",
     "output_type": "stream",
     "text": [
      "Epoch 28/30 - Validation: 100%|██████████| 151/151 [00:18<00:00,  8.16it/s]\n"
     ]
    },
    {
     "name": "stdout",
     "output_type": "stream",
     "text": [
      "Epoch 28, Validation Accuracy: 0.8762\n"
     ]
    },
    {
     "name": "stderr",
     "output_type": "stream",
     "text": [
      "Epoch 29/30 - Training: 100%|██████████| 484/484 [03:17<00:00,  2.45it/s]\n"
     ]
    },
    {
     "name": "stdout",
     "output_type": "stream",
     "text": [
      "Epoch 29, Train Loss: 0.6268\n",
      "Color Loss: 0.6279, Brand Loss: 0.6237, Car Name Loss: 0.6289\n"
     ]
    },
    {
     "name": "stderr",
     "output_type": "stream",
     "text": [
      "Epoch 29/30 - Validation: 100%|██████████| 151/151 [00:18<00:00,  8.15it/s]\n"
     ]
    },
    {
     "name": "stdout",
     "output_type": "stream",
     "text": [
      "Epoch 29, Validation Accuracy: 0.8779\n"
     ]
    },
    {
     "name": "stderr",
     "output_type": "stream",
     "text": [
      "Epoch 30/30 - Training: 100%|██████████| 484/484 [03:17<00:00,  2.45it/s]\n"
     ]
    },
    {
     "name": "stdout",
     "output_type": "stream",
     "text": [
      "Epoch 30, Train Loss: 0.6268\n",
      "Color Loss: 0.6279, Brand Loss: 0.6237, Car Name Loss: 0.6286\n"
     ]
    },
    {
     "name": "stderr",
     "output_type": "stream",
     "text": [
      "Epoch 30/30 - Validation: 100%|██████████| 151/151 [00:18<00:00,  8.15it/s]"
     ]
    },
    {
     "name": "stdout",
     "output_type": "stream",
     "text": [
      "Epoch 30, Validation Accuracy: 0.8756\n"
     ]
    },
    {
     "name": "stderr",
     "output_type": "stream",
     "text": [
      "\n"
     ]
    }
   ],
   "source": [
    "# Training loop\n",
    "num_epochs = 30\n",
    "best_val_acc = 0\n",
    "patience = 5\n",
    "patience_counter = 0\n",
    "color_loss_weight = 2.0\n",
    "answer_type_map_reverse = {0: 'color', 1: 'brand', 2: 'car_name'}  # Để map ngược lại từ số sang string\n",
    "\n",
    "for epoch in range(num_epochs):\n",
    "    model.train()\n",
    "    total_loss = 0\n",
    "    total_color_loss = 0\n",
    "    total_brand_loss = 0\n",
    "    total_car_name_loss = 0\n",
    "    color_count = 0\n",
    "    brand_count = 0\n",
    "    car_name_count = 0\n",
    "\n",
    "    for batch in tqdm(train_loader, desc=f\"Epoch {epoch+1}/{num_epochs} - Training\"):\n",
    "        image, input_ids, attention_mask, answer_idx, answer_type = [x.to(device) for x in batch]\n",
    "        valid_mask = answer_idx != -1\n",
    "        if not valid_mask.any():\n",
    "            continue\n",
    "        # Lọc các tensor bằng valid_mask\n",
    "        image = image[valid_mask]\n",
    "        input_ids = input_ids[valid_mask]\n",
    "        attention_mask = attention_mask[valid_mask]\n",
    "        answer_idx = answer_idx[valid_mask]\n",
    "        answer_type = answer_type[valid_mask]  # answer_type giờ là tensor\n",
    "\n",
    "        optimizer.zero_grad()\n",
    "        with autocast():\n",
    "            output = model(image, input_ids, attention_mask)\n",
    "            loss = loss_fn(output, answer_idx)\n",
    "            weighted_loss = torch.zeros_like(loss)\n",
    "            for i in range(len(answer_type)):\n",
    "                ans_type_str = answer_type_map_reverse[answer_type[i].item()]  # Map ngược lại thành string\n",
    "                if ans_type_str == 'color':\n",
    "                    weighted_loss += loss_fn(output[i].unsqueeze(0), answer_idx[i].unsqueeze(0)) * color_loss_weight\n",
    "                    total_color_loss += loss_fn(output[i].unsqueeze(0), answer_idx[i].unsqueeze(0)).item()\n",
    "                    color_count += 1\n",
    "                elif ans_type_str == 'brand':\n",
    "                    weighted_loss += loss_fn(output[i].unsqueeze(0), answer_idx[i].unsqueeze(0))\n",
    "                    total_brand_loss += loss_fn(output[i].unsqueeze(0), answer_idx[i].unsqueeze(0)).item()\n",
    "                    brand_count += 1\n",
    "                else:\n",
    "                    weighted_loss += loss_fn(output[i].unsqueeze(0), answer_idx[i].unsqueeze(0))\n",
    "                    total_car_name_loss += loss_fn(output[i].unsqueeze(0), answer_idx[i].unsqueeze(0)).item()\n",
    "                    car_name_count += 1\n",
    "        scaler.scale(weighted_loss).backward()\n",
    "        scaler.step(optimizer)\n",
    "        scaler.update()\n",
    "        total_loss += loss.item()\n",
    "\n",
    "    avg_train_loss = total_loss / len(train_loader)\n",
    "    avg_color_loss = total_color_loss / color_count if color_count > 0 else 0\n",
    "    avg_brand_loss = total_brand_loss / brand_count if brand_count > 0 else 0\n",
    "    avg_car_name_loss = total_car_name_loss / car_name_count if car_name_count > 0 else 0\n",
    "    print(f\"Epoch {epoch+1}, Train Loss: {avg_train_loss:.4f}\")\n",
    "    print(f\"Color Loss: {avg_color_loss:.4f}, Brand Loss: {avg_brand_loss:.4f}, Car Name Loss: {avg_car_name_loss:.4f}\")\n",
    "\n",
    "    # Validation\n",
    "    model.eval()\n",
    "    correct = 0\n",
    "    total = 0\n",
    "    with torch.no_grad():\n",
    "        for batch in tqdm(val_loader, desc=f\"Epoch {epoch+1}/{num_epochs} - Validation\"):\n",
    "            image, input_ids, attention_mask, answer_idx, _ = [x.to(device) for x in batch]\n",
    "            valid_mask = answer_idx != -1\n",
    "            if not valid_mask.any():\n",
    "                continue\n",
    "            image = image[valid_mask]\n",
    "            input_ids = input_ids[valid_mask]\n",
    "            attention_mask = attention_mask[valid_mask]\n",
    "            answer_idx = answer_idx[valid_mask]\n",
    "            with autocast():\n",
    "                output = model(image, input_ids, attention_mask)\n",
    "            pred = output.argmax(dim=1)\n",
    "            correct += (pred == answer_idx).sum().item()\n",
    "            total += answer_idx.size(0)\n",
    "    val_accuracy = correct / total if total > 0 else 0\n",
    "    print(f\"Epoch {epoch+1}, Validation Accuracy: {val_accuracy:.4f}\")\n",
    "\n",
    "    scheduler.step(val_accuracy)\n",
    "    if val_accuracy > best_val_acc:\n",
    "        best_val_acc = val_accuracy\n",
    "        patience_counter = 0\n",
    "        torch.save(model.state_dict(), 'best_vqa_model.pth')\n",
    "    else:\n",
    "        patience_counter += 1\n",
    "        if patience_counter >= patience:\n",
    "            print(\"Early stopping triggered!\")\n",
    "            break"
   ]
  },
  {
   "cell_type": "code",
   "execution_count": 18,
   "metadata": {
    "execution": {
     "iopub.execute_input": "2025-04-28T04:49:39.320587Z",
     "iopub.status.busy": "2025-04-28T04:49:39.320290Z",
     "iopub.status.idle": "2025-04-28T04:49:59.983496Z",
     "shell.execute_reply": "2025-04-28T04:49:59.982490Z",
     "shell.execute_reply.started": "2025-04-28T04:49:39.320562Z"
    },
    "trusted": true
   },
   "outputs": [
    {
     "name": "stderr",
     "output_type": "stream",
     "text": [
      "Test:   0%|          | 0/162 [00:00<?, ?it/s]/tmp/ipykernel_31/2637264605.py:39: FutureWarning: `torch.cuda.amp.autocast(args...)` is deprecated. Please use `torch.amp.autocast('cuda', args...)` instead.\n",
      "  with autocast():\n",
      "Test: 100%|██████████| 162/162 [00:20<00:00,  8.04it/s]"
     ]
    },
    {
     "name": "stdout",
     "output_type": "stream",
     "text": [
      "Test Total Accuracy: 0.8446\n",
      "Test Color Accuracy: 0.8364, Brand Accuracy: 0.9395, Car Name Accuracy: 0.7579\n",
      "Test Color Loss: 1.1664, Brand Loss: 0.7784, Car Name Loss: 1.3228\n",
      "\n",
      "Top 4 màu sai nhiều nhất:\n",
      "- gray: 0.2571 (25.71%), xuất hiện 245 lần\n",
      "  Nhầm lẫn với:\n",
      "    + white: 10 lần\n",
      "    + black: 28 lần\n",
      "    + silver: 23 lần\n",
      "    + blue: 2 lần\n",
      "- silver: 0.2258 (22.58%), xuất hiện 248 lần\n",
      "  Nhầm lẫn với:\n",
      "    + gray: 18 lần\n",
      "    + blue: 6 lần\n",
      "    + white: 20 lần\n",
      "    + black: 12 lần\n",
      "- blue: 0.1681 (16.81%), xuất hiện 339 lần\n",
      "  Nhầm lẫn với:\n",
      "    + black: 28 lần\n",
      "    + silver: 21 lần\n",
      "    + white: 6 lần\n",
      "    + gray: 2 lần\n",
      "- black: 0.1440 (14.40%), xuất hiện 368 lần\n",
      "  Nhầm lẫn với:\n",
      "    + white: 29 lần\n",
      "    + gray: 13 lần\n",
      "    + silver: 8 lần\n",
      "    + blue: 3 lần\n",
      "\n",
      "Top 4 hãng xe sai nhiều nhất:\n",
      "- bmw: 0.1129 (11.29%), xuất hiện 425 lần\n",
      "  Nhầm lẫn với:\n",
      "    + acura: 7 lần\n",
      "    + bentley: 6 lần\n",
      "    + audi: 35 lần\n",
      "- acura: 0.0485 (4.85%), xuất hiện 371 lần\n",
      "  Nhầm lẫn với:\n",
      "    + audi: 12 lần\n",
      "    + bmw: 5 lần\n",
      "    + bentley: 1 lần\n",
      "- audi: 0.0475 (4.75%), xuất hiện 442 lần\n",
      "  Nhầm lẫn với:\n",
      "    + bmw: 5 lần\n",
      "    + bentley: 8 lần\n",
      "    + acura: 8 lần\n",
      "- bentley: 0.0354 (3.54%), xuất hiện 480 lần\n",
      "  Nhầm lẫn với:\n",
      "    + audi: 13 lần\n",
      "    + bmw: 2 lần\n",
      "    + acura: 2 lần\n",
      "\n",
      "Top 4 tên xe sai nhiều nhất:\n",
      "- Bentley Mulsanne: 0.8900 (89.00%), xuất hiện 100 lần\n",
      "  Nhầm lẫn với:\n",
      "    + Bentley Flying: 56 lần\n",
      "    + Bentley Continental: 7 lần\n",
      "    + Bentley Bentayga: 23 lần\n",
      "    + Audi A4: 2 lần\n",
      "    + Audi Q3: 1 lần\n",
      "- BMW 330: 0.5000 (50.00%), xuất hiện 100 lần\n",
      "  Nhầm lẫn với:\n",
      "    + Audi A4: 26 lần\n",
      "    + BMW X3: 2 lần\n",
      "    + Acura TLX: 3 lần\n",
      "    + BMW X1: 17 lần\n",
      "    + Bentley Flying: 1 lần\n",
      "    + Audi Q7: 1 lần\n",
      "- Acura ILX: 0.4839 (48.39%), xuất hiện 31 lần\n",
      "  Nhầm lẫn với:\n",
      "    + Acura MDX: 2 lần\n",
      "    + Acura RDX: 5 lần\n",
      "    + Acura TLX: 6 lần\n",
      "    + BMW 330: 1 lần\n",
      "    + Bentley Continental: 1 lần\n",
      "- Audi A4: 0.4000 (40.00%), xuất hiện 100 lần\n",
      "  Nhầm lẫn với:\n",
      "    + Audi Q7: 5 lần\n",
      "    + Bentley Continental: 3 lần\n",
      "    + Acura TLX: 6 lần\n",
      "    + Audi Q5: 3 lần\n",
      "    + Audi Q3: 19 lần\n",
      "    + BMW X5: 1 lần\n",
      "    + Bentley Flying: 3 lần\n"
     ]
    },
    {
     "name": "stderr",
     "output_type": "stream",
     "text": [
      "\n"
     ]
    }
   ],
   "source": [
    "from collections import defaultdict\n",
    "# Test\n",
    "model.load_state_dict(torch.load('best_vqa_model.pth', weights_only=True))\n",
    "model.eval()\n",
    "correct_color = 0\n",
    "total_color = 0\n",
    "correct_brand = 0\n",
    "total_brand = 0\n",
    "correct_car_name = 0\n",
    "total_car_name = 0\n",
    "total_correct = 0\n",
    "total_samples = 0\n",
    "total_color_loss = 0\n",
    "total_brand_loss = 0\n",
    "total_car_name_loss = 0\n",
    "color_count = 0\n",
    "brand_count = 0\n",
    "car_name_count = 0\n",
    "answer_type_map_reverse = {0: 'color', 1: 'brand', 2: 'car_name'}\n",
    "idx_to_answer = {idx: answer for answer, idx in answer_to_idx.items()}  # Map ngược từ idx sang answer\n",
    "\n",
    "# Theo dõi số lần xuất hiện, đúng, và nhầm lẫn\n",
    "color_stats = defaultdict(lambda: {'correct': 0, 'total': 0, 'confusion': defaultdict(int)})\n",
    "brand_stats = defaultdict(lambda: {'correct': 0, 'total': 0, 'confusion': defaultdict(int)})\n",
    "car_name_stats = defaultdict(lambda: {'correct': 0, 'total': 0, 'confusion': defaultdict(int)})\n",
    "\n",
    "with torch.no_grad():\n",
    "    for batch in tqdm(test_loader, desc=\"Test\"):\n",
    "        image, input_ids, attention_mask, answer_idx, answer_type = [x.to(device) for x in batch]\n",
    "        valid_mask = (answer_idx != -1).to(device)\n",
    "        if not valid_mask.any():\n",
    "            continue\n",
    "        image = image[valid_mask]\n",
    "        input_ids = input_ids[valid_mask]\n",
    "        attention_mask = attention_mask[valid_mask]\n",
    "        answer_idx = answer_idx[valid_mask]\n",
    "        answer_type = answer_type[valid_mask]\n",
    "\n",
    "        with autocast():\n",
    "            output = model(image, input_ids, attention_mask)\n",
    "            loss = loss_fn(output, answer_idx)\n",
    "        pred = output.argmax(dim=1)\n",
    "        total_correct += (pred == answer_idx).sum().item()\n",
    "        total_samples += answer_idx.size(0)\n",
    "\n",
    "        for i in range(len(answer_type)):\n",
    "            ans_type_str = answer_type_map_reverse[answer_type[i].item()]\n",
    "            true_answer = idx_to_answer[answer_idx[i].item()]\n",
    "            pred_answer = idx_to_answer[pred[i].item()]\n",
    "            is_correct = pred[i] == answer_idx[i]\n",
    "\n",
    "            if ans_type_str == 'color':\n",
    "                total_color += 1\n",
    "                total_color_loss += loss_fn(output[i].unsqueeze(0), answer_idx[i].unsqueeze(0)).item()\n",
    "                color_count += 1\n",
    "                if is_correct:\n",
    "                    correct_color += 1\n",
    "                color_stats[true_answer]['total'] += 1\n",
    "                if is_correct:\n",
    "                    color_stats[true_answer]['correct'] += 1\n",
    "                else:\n",
    "                    color_stats[true_answer]['confusion'][pred_answer] += 1\n",
    "\n",
    "            elif ans_type_str == 'brand':\n",
    "                total_brand += 1\n",
    "                total_brand_loss += loss_fn(output[i].unsqueeze(0), answer_idx[i].unsqueeze(0)).item()\n",
    "                brand_count += 1\n",
    "                if is_correct:\n",
    "                    correct_brand += 1\n",
    "                brand_stats[true_answer]['total'] += 1\n",
    "                if is_correct:\n",
    "                    brand_stats[true_answer]['correct'] += 1\n",
    "                else:\n",
    "                    brand_stats[true_answer]['confusion'][pred_answer] += 1\n",
    "\n",
    "            else:\n",
    "                total_car_name += 1\n",
    "                total_car_name_loss += loss_fn(output[i].unsqueeze(0), answer_idx[i].unsqueeze(0)).item()\n",
    "                car_name_count += 1\n",
    "                if is_correct:\n",
    "                    correct_car_name += 1\n",
    "                car_name_stats[true_answer]['total'] += 1\n",
    "                if is_correct:\n",
    "                    car_name_stats[true_answer]['correct'] += 1\n",
    "                else:\n",
    "                    car_name_stats[true_answer]['confusion'][pred_answer] += 1\n",
    "\n",
    "# Tính accuracy tổng và riêng\n",
    "test_color_accuracy = correct_color / total_color if total_color > 0 else 0\n",
    "test_brand_accuracy = correct_brand / total_brand if total_brand > 0 else 0\n",
    "test_car_name_accuracy = correct_car_name / total_car_name if total_car_name > 0 else 0\n",
    "test_total_accuracy = total_correct / total_samples if total_samples > 0 else 0\n",
    "avg_color_loss = total_color_loss / color_count if color_count > 0 else 0\n",
    "avg_brand_loss = total_brand_loss / brand_count if brand_count > 0 else 0\n",
    "avg_car_name_loss = total_car_name_loss / car_name_count if car_name_count > 0 else 0\n",
    "\n",
    "# Tính top 4 sai nhiều nhất và nhầm lẫn\n",
    "def get_top_errors(stats, category_name):\n",
    "    error_rates = []\n",
    "    for answer, stat in stats.items():\n",
    "        total = stat['total']\n",
    "        correct = stat['correct']\n",
    "        if total > 0:\n",
    "            error_rate = 1 - (correct / total)\n",
    "            error_rates.append((answer, error_rate, total, stat['confusion']))\n",
    "    error_rates.sort(key=lambda x: (x[1], x[2]), reverse=True)\n",
    "    top_4 = error_rates[:4]\n",
    "    print(f\"\\nTop 4 {category_name} sai nhiều nhất:\")\n",
    "    for answer, error_rate, total, confusion in top_4:\n",
    "        print(f\"- {answer}: {error_rate:.4f} ({(error_rate * 100):.2f}%), xuất hiện {total} lần\")\n",
    "        print(f\"  Nhầm lẫn với:\")\n",
    "        for pred_answer, count in confusion.items():\n",
    "            print(f\"    + {pred_answer}: {count} lần\")\n",
    "\n",
    "# In kết quả\n",
    "print(f\"Test Total Accuracy: {test_total_accuracy:.4f}\")\n",
    "print(f\"Test Color Accuracy: {test_color_accuracy:.4f}, Brand Accuracy: {test_brand_accuracy:.4f}, Car Name Accuracy: {test_car_name_accuracy:.4f}\")\n",
    "print(f\"Test Color Loss: {avg_color_loss:.4f}, Brand Loss: {avg_brand_loss:.4f}, Car Name Loss: {avg_car_name_loss:.4f}\")\n",
    "\n",
    "get_top_errors(color_stats, \"màu\")\n",
    "get_top_errors(brand_stats, \"hãng xe\")\n",
    "get_top_errors(car_name_stats, \"tên xe\")"
   ]
  },
  {
   "cell_type": "code",
   "execution_count": 20,
   "metadata": {
    "execution": {
     "iopub.execute_input": "2025-04-28T04:50:33.979794Z",
     "iopub.status.busy": "2025-04-28T04:50:33.979088Z",
     "iopub.status.idle": "2025-04-28T04:50:35.854684Z",
     "shell.execute_reply": "2025-04-28T04:50:35.854104Z",
     "shell.execute_reply.started": "2025-04-28T04:50:33.979768Z"
    },
    "trusted": true
   },
   "outputs": [],
   "source": [
    "save_path = \"/kaggle/working/my-vqa-model\"\n",
    "os.makedirs(save_path, exist_ok=True)\n",
    "torch.save(model.state_dict(), f\"{save_path}/pytorch_model.bin\")\n",
    "config = {\n",
    "    \"vit_model\": \"google/vit-base-patch16-224\",\n",
    "    \"bert_model\": \"bert-base-uncased\",\n",
    "    \"num_answers\": len(answer_to_idx),\n",
    "    \"architecture\": \"ViT+BERT with concatenation and multiplication fusion\"\n",
    "}\n",
    "with open(f\"{save_path}/config.json\", \"w\") as f:\n",
    "    json.dump(config, f)\n",
    "tokenizer.save_pretrained(save_path)\n",
    "with open(f\"{save_path}/answer_list.json\", \"w\") as f:\n",
    "    json.dump(all_train_answers, f)"
   ]
  },
  {
   "cell_type": "code",
   "execution_count": null,
   "metadata": {
    "trusted": true
   },
   "outputs": [],
   "source": []
  }
 ],
 "metadata": {
  "kaggle": {
   "accelerator": "nvidiaTeslaT4",
   "dataSources": [],
   "dockerImageVersionId": 31011,
   "isGpuEnabled": true,
   "isInternetEnabled": true,
   "language": "python",
   "sourceType": "notebook"
  },
  "kernelspec": {
   "display_name": "Python 3",
   "language": "python",
   "name": "python3"
  },
  "language_info": {
   "codemirror_mode": {
    "name": "ipython",
    "version": 3
   },
   "file_extension": ".py",
   "mimetype": "text/x-python",
   "name": "python",
   "nbconvert_exporter": "python",
   "pygments_lexer": "ipython3",
   "version": "3.11.11"
  }
 },
 "nbformat": 4,
 "nbformat_minor": 4
}
